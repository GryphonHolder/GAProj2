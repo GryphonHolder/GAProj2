{
  "nbformat": 4,
  "nbformat_minor": 0,
  "metadata": {
    "colab": {
      "provenance": []
    },
    "kernelspec": {
      "name": "python3",
      "display_name": "Python 3"
    },
    "language_info": {
      "name": "python"
    }
  },
  "cells": [
    {
      "cell_type": "code",
      "execution_count": null,
      "metadata": {
        "id": "w3eVH6FvdIAz"
      },
      "outputs": [],
      "source": [
        "import pandas as pd\n",
        "import numpy as np\n",
        "import matplotlib.pyplot as plt\n",
        "import seaborn as sns\n",
        "from sklearn.linear_model import LinearRegression\n",
        "from sklearn.impute import SimpleImputer\n",
        "from sklearn.metrics import mean_squared_error,mean_absolute_error\n",
        "from sklearn.feature_selection import SelectKBest, f_regression\n",
        "from sklearn.model_selection import train_test_split, cross_val_score\n",
        "from sklearn.metrics import r2_score\n",
        "import warnings\n",
        "warnings.filterwarnings('ignore')\n",
        "plt.style.use('seaborn-pastel')"
      ]
    },
    {
      "cell_type": "code",
      "source": [
        "#Import the data\n",
        "data = pd.read_csv('https://raw.githubusercontent.com/altheaxcvii/project_2/charles/datasets/train.csv')"
      ],
      "metadata": {
        "id": "ILT2ySVKdiNm"
      },
      "execution_count": null,
      "outputs": []
    },
    {
      "cell_type": "markdown",
      "source": [
        "## Data Dictionary (I collapsed it because it is very long but it's here!)"
      ],
      "metadata": {
        "id": "PKV24y2S0XXq"
      }
    },
    {
      "cell_type": "markdown",
      "source": [
        "| **Column names** | **Descriptions** |\n",
        "|---|---|\n",
        "| resale_price | the property's sale price in Singapore dollars. This is the target variable that you're trying to predict for this challenge. |\n",
        "| Tranc_YearMonth | year and month of the resale transaction e.g. 2015-02 |\n",
        "| town | HDB township where the flat is located e.g. BUKIT MERAH |\n",
        "| flat_type | type of the resale flat unit e.g. 3 ROOM |\n",
        "| block | block number of the resale flat e.g. 454 |\n",
        "| street_name | street name where the resale flat resides e.g. TAMPINES ST 42 |\n",
        "| storey_range | floor level (range) of the resale flat unit e.g. 07 TO 09 |\n",
        "| floor_area_sqm | floor area of the resale flat unit in square metres |\n",
        "| price_per_sqft | Price per Square Foot of the unit |\n",
        "| flat_model | HDB model of the resale flat e.g. Multi Generation |\n",
        "| lease_commence_date | commencement year of the flat units 99-year lease |\n",
        "| Tranc_Year | year of resale transaction |\n",
        "| Tranc_Month | month of resale transaction |\n",
        "| mid_storey | median value of storey_range |\n",
        "| lower | lower value of storey_range |\n",
        "| 2room_rental | 2 room rental flat |\n",
        "| 3room_rental | 3 room rental flat |\n",
        "| 4room_rental | 4 room rental flat |\n",
        "| postal | postal code |\n",
        "| other_room_rental | other room rental flat |\n",
        "| upper | upper value of storey_range |\n",
        "| mid | middle value of storey_range |\n",
        "| full_flat_type | combination of flat_type and flat_model |\n",
        "| address | combination of block and street_name |\n",
        "| floor_area_sqft | floor area of the resale flat unit in square feet |\n",
        "| hdb_age | number of years from lease_commence_date to present year |\n",
        "| max_floor_lvl | highest floor of the resale flat |\n",
        "| year_completed | year which construction was completed for resale flat |\n",
        "| residential | boolean value if resale flat has residential units in the same block |\n",
        "| commercial | boolean value if resale flat has commercial units in the same block |\n",
        "| market_hawker | boolean value if resale flat has a market or hawker centre in the same block |\n",
        "| multistorey_carpark | boolean value if resale flat has a multistorey carpark in the same block |\n",
        "| precinct_pavilion | boolean value if resale flat has a pavilion in the same block |\n",
        "| total_dwelling_units | total number of residential dwelling units in the resale flat |\n",
        "| Latitude | Latitude of the unit |\n",
        "| Longitude | Longitude of the unit |\n",
        "| planning_area | planning area of the unit |\n",
        "| pri_sch_nearest_distance | distance of unit to the nearest primary school |\n",
        "| 1room_sold | number of 1-room residential units in the resale flat |\n",
        "| 2room_sold | number of 2-room residential units in the resale flat |\n",
        "| 3room_sold | number of 3-room residential units in the resale flat |\n",
        "| 4room_sold | number of 4-room residential units in the resale flat |\n",
        "| 5room_sold | number of 5-room residential units in the resale flat |\n",
        "| exec_sold | number of executive type residential units in the resale flat block |\n",
        "| pri_sch_name | name of the nearest primary school |\n",
        "| vacancy | vacancy of the unit |\n",
        "| pri_sch_affiliation | affiliation of primary school |\n",
        "| pri_sch_latitude | latitude of primary school |\n",
        "| pri_sch_longitude | longitude of primary school |\n",
        "| sec_sch_nearest_dist | distance to nearest secondary school |\n",
        "| sec_sch_name | name of nearest secondary school |\n",
        "| cutoff_point | PSLE cutoff point of nearest secondary school |\n",
        "| affiliation | if there is affiliation for the nearest secondary school |\n",
        "| sec_sch_latitude | latitude of secondary school |\n",
        "| sec_sch_longitude | longitude of secondary school |\n",
        "| multigen_sold | number of multi-generational type residential units in the resale flat block |\n",
        "| mrt_nearest_distance | distance to nearest mrt |\n",
        "| mrt_name | name of nearest mrt |\n",
        "| bus_interchange | if there is a bus interchange |\n",
        "| mrt_interchange | if there is an mrt interchange |\n",
        "| mrt_latitude | latitude of mrt |\n",
        "| mrt_longitude | longitude of mrt |\n",
        "| bus_stop_nearest_distance | distance to nearest bus stop |\n",
        "| bus_stop_name | name of bus stop |\n",
        "| bus_stop_latitude | latitude of bus stop |\n",
        "| bus_stop_longitude | longitude of bus stop |\n",
        "| Mall_Nearest_Distance | Distance to the nearest mall |\n",
        "| Mall_Within_500m | How many malls within 500m of the unit |\n",
        "| Mall_Within_1km | How many malls within 1km of the unit |\n",
        "| Mall_Within_2km | How many malls within 2km of the unit |\n",
        "| Hawker_Nearest_Distance | Distance to nearest Hawker Center |\n",
        "| Hawker_Within_500m | How many Hawker Centers within 500m of the unit |\n",
        "| Hawker_Within_1km | How many Hawker Centers within 1km of the unit |\n",
        "| Hawker_Within_2km | How many Hawker Centers within 2km of the unit |\n",
        "| studio_apartment_sold | number of studio apartment type residential units in the resale flat block |\n",
        "| 1room_rental | number of 1-room rental residential units in the resale flat block |\n",
        "| hawker_food_stalls | number of stalls at nearest hawker centre |\n",
        "| hawker_market_stalls | number of market stalls at nearest hawker centre |"
      ],
      "metadata": {
        "id": "lXBo5uyNz-om"
      }
    },
    {
      "cell_type": "markdown",
      "source": [
        "## Data Cleaning and Preliminary EDA"
      ],
      "metadata": {
        "id": "t1cTd4Xuj7bz"
      }
    },
    {
      "cell_type": "code",
      "source": [
        "data.info()"
      ],
      "metadata": {
        "colab": {
          "base_uri": "https://localhost:8080/"
        },
        "id": "Ts0N7d_dps3M",
        "outputId": "1f32d776-e2c7-47f6-ce52-e7670e52c779"
      },
      "execution_count": null,
      "outputs": [
        {
          "output_type": "stream",
          "name": "stdout",
          "text": [
            "<class 'pandas.core.frame.DataFrame'>\n",
            "RangeIndex: 150634 entries, 0 to 150633\n",
            "Data columns (total 78 columns):\n",
            " #   Column                     Non-Null Count   Dtype  \n",
            "---  ------                     --------------   -----  \n",
            " 0   id                         150634 non-null  int64  \n",
            " 1   Tranc_YearMonth            150634 non-null  object \n",
            " 2   town                       150634 non-null  object \n",
            " 3   flat_type                  150634 non-null  object \n",
            " 4   block                      150634 non-null  object \n",
            " 5   street_name                150634 non-null  object \n",
            " 6   storey_range               150634 non-null  object \n",
            " 7   floor_area_sqm             150634 non-null  float64\n",
            " 8   flat_model                 150634 non-null  object \n",
            " 9   lease_commence_date        150634 non-null  int64  \n",
            " 10  resale_price               150634 non-null  float64\n",
            " 11  Tranc_Year                 150634 non-null  int64  \n",
            " 12  Tranc_Month                150634 non-null  int64  \n",
            " 13  mid_storey                 150634 non-null  int64  \n",
            " 14  lower                      150634 non-null  int64  \n",
            " 15  upper                      150634 non-null  int64  \n",
            " 16  mid                        150634 non-null  int64  \n",
            " 17  full_flat_type             150634 non-null  object \n",
            " 18  address                    150634 non-null  object \n",
            " 19  floor_area_sqft            150634 non-null  float64\n",
            " 20  price_per_sqft             150634 non-null  float64\n",
            " 21  hdb_age                    150634 non-null  int64  \n",
            " 22  max_floor_lvl              150634 non-null  int64  \n",
            " 23  year_completed             150634 non-null  int64  \n",
            " 24  residential                150634 non-null  object \n",
            " 25  commercial                 150634 non-null  object \n",
            " 26  market_hawker              150634 non-null  object \n",
            " 27  multistorey_carpark        150634 non-null  object \n",
            " 28  precinct_pavilion          150634 non-null  object \n",
            " 29  total_dwelling_units       150634 non-null  int64  \n",
            " 30  1room_sold                 150634 non-null  int64  \n",
            " 31  2room_sold                 150634 non-null  int64  \n",
            " 32  3room_sold                 150634 non-null  int64  \n",
            " 33  4room_sold                 150634 non-null  int64  \n",
            " 34  5room_sold                 150634 non-null  int64  \n",
            " 35  exec_sold                  150634 non-null  int64  \n",
            " 36  multigen_sold              150634 non-null  int64  \n",
            " 37  studio_apartment_sold      150634 non-null  int64  \n",
            " 38  1room_rental               150634 non-null  int64  \n",
            " 39  2room_rental               150634 non-null  int64  \n",
            " 40  3room_rental               150634 non-null  int64  \n",
            " 41  other_room_rental          150634 non-null  int64  \n",
            " 42  postal                     150634 non-null  object \n",
            " 43  Latitude                   150634 non-null  float64\n",
            " 44  Longitude                  150634 non-null  float64\n",
            " 45  planning_area              150634 non-null  object \n",
            " 46  Mall_Nearest_Distance      149805 non-null  float64\n",
            " 47  Mall_Within_500m           57845 non-null   float64\n",
            " 48  Mall_Within_1km            125208 non-null  float64\n",
            " 49  Mall_Within_2km            148694 non-null  float64\n",
            " 50  Hawker_Nearest_Distance    150634 non-null  float64\n",
            " 51  Hawker_Within_500m         53244 non-null   float64\n",
            " 52  Hawker_Within_1km          89766 non-null   float64\n",
            " 53  Hawker_Within_2km          121432 non-null  float64\n",
            " 54  hawker_food_stalls         150634 non-null  int64  \n",
            " 55  hawker_market_stalls       150634 non-null  int64  \n",
            " 56  mrt_nearest_distance       150634 non-null  float64\n",
            " 57  mrt_name                   150634 non-null  object \n",
            " 58  bus_interchange            150634 non-null  int64  \n",
            " 59  mrt_interchange            150634 non-null  int64  \n",
            " 60  mrt_latitude               150634 non-null  float64\n",
            " 61  mrt_longitude              150634 non-null  float64\n",
            " 62  bus_stop_nearest_distance  150634 non-null  float64\n",
            " 63  bus_stop_name              150634 non-null  object \n",
            " 64  bus_stop_latitude          150634 non-null  float64\n",
            " 65  bus_stop_longitude         150634 non-null  float64\n",
            " 66  pri_sch_nearest_distance   150634 non-null  float64\n",
            " 67  pri_sch_name               150634 non-null  object \n",
            " 68  vacancy                    150634 non-null  int64  \n",
            " 69  pri_sch_affiliation        150634 non-null  int64  \n",
            " 70  pri_sch_latitude           150634 non-null  float64\n",
            " 71  pri_sch_longitude          150634 non-null  float64\n",
            " 72  sec_sch_nearest_dist       150634 non-null  float64\n",
            " 73  sec_sch_name               150634 non-null  object \n",
            " 74  cutoff_point               150634 non-null  int64  \n",
            " 75  affiliation                150634 non-null  int64  \n",
            " 76  sec_sch_latitude           150634 non-null  float64\n",
            " 77  sec_sch_longitude          150634 non-null  float64\n",
            "dtypes: float64(26), int64(32), object(20)\n",
            "memory usage: 89.6+ MB\n"
          ]
        }
      ]
    },
    {
      "cell_type": "code",
      "source": [
        "#standardizing all column names to be in snake case\n",
        "data.columns = data.columns.str.lower().str.replace(' ','_')"
      ],
      "metadata": {
        "id": "B2RhPANkqsBa"
      },
      "execution_count": null,
      "outputs": []
    },
    {
      "cell_type": "code",
      "source": [
        "#dropping price_per_sqft since we cannot use this for our prediction\n",
        "data.drop('price_per_sqft', axis = 1, inplace = True)"
      ],
      "metadata": {
        "id": "TrN1-Vnbrkkz"
      },
      "execution_count": null,
      "outputs": []
    },
    {
      "cell_type": "code",
      "source": [
        "#any columns with only 1 unique value will not be helpful in a prediction model \n",
        "for x in data.columns:\n",
        "    print(x, len(data[x].unique()))"
      ],
      "metadata": {
        "colab": {
          "base_uri": "https://localhost:8080/"
        },
        "id": "vCp_q0HIpu-v",
        "outputId": "305d2d87-5307-4d53-e94f-0219c8950964"
      },
      "execution_count": null,
      "outputs": [
        {
          "output_type": "stream",
          "name": "stdout",
          "text": [
            "id 150634\n",
            "tranc_yearmonth 110\n",
            "town 26\n",
            "flat_type 7\n",
            "block 2514\n",
            "street_name 553\n",
            "storey_range 25\n",
            "floor_area_sqm 169\n",
            "flat_model 20\n",
            "lease_commence_date 54\n",
            "resale_price 3295\n",
            "tranc_year 10\n",
            "tranc_month 12\n",
            "mid_storey 22\n",
            "lower 22\n",
            "upper 23\n",
            "mid 22\n",
            "full_flat_type 43\n",
            "address 9157\n",
            "floor_area_sqft 169\n",
            "hdb_age 54\n",
            "max_floor_lvl 41\n",
            "year_completed 59\n",
            "residential 1\n",
            "commercial 2\n",
            "market_hawker 2\n",
            "multistorey_carpark 2\n",
            "precinct_pavilion 2\n",
            "total_dwelling_units 320\n",
            "1room_sold 2\n",
            "2room_sold 99\n",
            "3room_sold 255\n",
            "4room_sold 200\n",
            "5room_sold 133\n",
            "exec_sold 103\n",
            "multigen_sold 7\n",
            "studio_apartment_sold 61\n",
            "1room_rental 11\n",
            "2room_rental 48\n",
            "3room_rental 15\n",
            "other_room_rental 3\n",
            "postal 17483\n",
            "latitude 9126\n",
            "longitude 9098\n",
            "planning_area 32\n",
            "mall_nearest_distance 8983\n",
            "mall_within_500m 7\n",
            "mall_within_1km 16\n",
            "mall_within_2km 42\n",
            "hawker_nearest_distance 9126\n",
            "hawker_within_500m 6\n",
            "hawker_within_1km 10\n",
            "hawker_within_2km 20\n",
            "hawker_food_stalls 52\n",
            "hawker_market_stalls 70\n",
            "mrt_nearest_distance 9126\n",
            "mrt_name 94\n",
            "bus_interchange 2\n",
            "mrt_interchange 2\n",
            "mrt_latitude 94\n",
            "mrt_longitude 94\n",
            "bus_stop_nearest_distance 9126\n",
            "bus_stop_name 1657\n",
            "bus_stop_latitude 2011\n",
            "bus_stop_longitude 2011\n",
            "pri_sch_nearest_distance 9126\n",
            "pri_sch_name 177\n",
            "vacancy 66\n",
            "pri_sch_affiliation 2\n",
            "pri_sch_latitude 177\n",
            "pri_sch_longitude 177\n",
            "sec_sch_nearest_dist 9126\n",
            "sec_sch_name 134\n",
            "cutoff_point 54\n",
            "affiliation 2\n",
            "sec_sch_latitude 134\n",
            "sec_sch_longitude 134\n"
          ]
        }
      ]
    },
    {
      "cell_type": "code",
      "source": [
        "#Dropping residential column due to only 1 unique value and id value as it is only use for identification\n",
        "data.drop(['residential', 'id'], axis = 1, inplace=True)"
      ],
      "metadata": {
        "id": "BGa8KrRqqms2"
      },
      "execution_count": null,
      "outputs": []
    },
    {
      "cell_type": "code",
      "source": [
        "data.columns"
      ],
      "metadata": {
        "colab": {
          "base_uri": "https://localhost:8080/"
        },
        "id": "gRRr1TGuqpis",
        "outputId": "da68d5b9-1ef6-43b5-b1af-ce1f85bae974"
      },
      "execution_count": null,
      "outputs": [
        {
          "output_type": "execute_result",
          "data": {
            "text/plain": [
              "Index(['tranc_yearmonth', 'town', 'flat_type', 'block', 'street_name',\n",
              "       'storey_range', 'floor_area_sqm', 'flat_model', 'lease_commence_date',\n",
              "       'resale_price', 'tranc_year', 'tranc_month', 'mid_storey', 'lower',\n",
              "       'upper', 'mid', 'full_flat_type', 'address', 'floor_area_sqft',\n",
              "       'hdb_age', 'max_floor_lvl', 'year_completed', 'commercial',\n",
              "       'market_hawker', 'multistorey_carpark', 'precinct_pavilion',\n",
              "       'total_dwelling_units', '1room_sold', '2room_sold', '3room_sold',\n",
              "       '4room_sold', '5room_sold', 'exec_sold', 'multigen_sold',\n",
              "       'studio_apartment_sold', '1room_rental', '2room_rental', '3room_rental',\n",
              "       'other_room_rental', 'postal', 'latitude', 'longitude', 'planning_area',\n",
              "       'mall_nearest_distance', 'mall_within_500m', 'mall_within_1km',\n",
              "       'mall_within_2km', 'hawker_nearest_distance', 'hawker_within_500m',\n",
              "       'hawker_within_1km', 'hawker_within_2km', 'hawker_food_stalls',\n",
              "       'hawker_market_stalls', 'mrt_nearest_distance', 'mrt_name',\n",
              "       'bus_interchange', 'mrt_interchange', 'mrt_latitude', 'mrt_longitude',\n",
              "       'bus_stop_nearest_distance', 'bus_stop_name', 'bus_stop_latitude',\n",
              "       'bus_stop_longitude', 'pri_sch_nearest_distance', 'pri_sch_name',\n",
              "       'vacancy', 'pri_sch_affiliation', 'pri_sch_latitude',\n",
              "       'pri_sch_longitude', 'sec_sch_nearest_dist', 'sec_sch_name',\n",
              "       'cutoff_point', 'affiliation', 'sec_sch_latitude', 'sec_sch_longitude'],\n",
              "      dtype='object')"
            ]
          },
          "metadata": {},
          "execution_count": 44
        }
      ]
    },
    {
      "cell_type": "code",
      "source": [
        "data.isnull().sum().sort_values().tail(8)"
      ],
      "metadata": {
        "colab": {
          "base_uri": "https://localhost:8080/"
        },
        "id": "KFinDW6QqwfC",
        "outputId": "4e3086e4-13e1-4bc2-f9b4-41f7ee8892e0"
      },
      "execution_count": null,
      "outputs": [
        {
          "output_type": "execute_result",
          "data": {
            "text/plain": [
              "max_floor_lvl                0\n",
              "mall_nearest_distance      829\n",
              "mall_within_2km           1940\n",
              "mall_within_1km          25426\n",
              "hawker_within_2km        29202\n",
              "hawker_within_1km        60868\n",
              "mall_within_500m         92789\n",
              "hawker_within_500m       97390\n",
              "dtype: int64"
            ]
          },
          "metadata": {},
          "execution_count": 45
        }
      ]
    },
    {
      "cell_type": "code",
      "source": [
        "#Exploring Null Rows - looks like null value are 0 (i.e. no malls within stated distance)\n",
        "data[data['mall_nearest_distance'].isnull()][['mall_nearest_distance', 'mall_within_500m', 'mall_within_1km', 'mall_within_2km']]"
      ],
      "metadata": {
        "colab": {
          "base_uri": "https://localhost:8080/",
          "height": 423
        },
        "id": "f8cdJp3gqyIk",
        "outputId": "4b790dd9-d60d-4a3b-9b3b-7315b15ffb4d"
      },
      "execution_count": null,
      "outputs": [
        {
          "output_type": "execute_result",
          "data": {
            "text/plain": [
              "        mall_nearest_distance  mall_within_500m  mall_within_1km  \\\n",
              "75                        NaN               NaN              NaN   \n",
              "321                       NaN               NaN              NaN   \n",
              "478                       NaN               NaN              NaN   \n",
              "643                       NaN               NaN              NaN   \n",
              "691                       NaN               NaN              NaN   \n",
              "...                       ...               ...              ...   \n",
              "150296                    NaN               NaN              NaN   \n",
              "150388                    NaN               NaN              NaN   \n",
              "150394                    NaN               NaN              NaN   \n",
              "150479                    NaN               NaN              NaN   \n",
              "150625                    NaN               NaN              NaN   \n",
              "\n",
              "        mall_within_2km  \n",
              "75                  NaN  \n",
              "321                 NaN  \n",
              "478                 NaN  \n",
              "643                 NaN  \n",
              "691                 NaN  \n",
              "...                 ...  \n",
              "150296              NaN  \n",
              "150388              NaN  \n",
              "150394              NaN  \n",
              "150479              NaN  \n",
              "150625              NaN  \n",
              "\n",
              "[829 rows x 4 columns]"
            ],
            "text/html": [
              "\n",
              "  <div id=\"df-795b960b-bc07-4b2b-8d4f-2a8f5b62ac89\">\n",
              "    <div class=\"colab-df-container\">\n",
              "      <div>\n",
              "<style scoped>\n",
              "    .dataframe tbody tr th:only-of-type {\n",
              "        vertical-align: middle;\n",
              "    }\n",
              "\n",
              "    .dataframe tbody tr th {\n",
              "        vertical-align: top;\n",
              "    }\n",
              "\n",
              "    .dataframe thead th {\n",
              "        text-align: right;\n",
              "    }\n",
              "</style>\n",
              "<table border=\"1\" class=\"dataframe\">\n",
              "  <thead>\n",
              "    <tr style=\"text-align: right;\">\n",
              "      <th></th>\n",
              "      <th>mall_nearest_distance</th>\n",
              "      <th>mall_within_500m</th>\n",
              "      <th>mall_within_1km</th>\n",
              "      <th>mall_within_2km</th>\n",
              "    </tr>\n",
              "  </thead>\n",
              "  <tbody>\n",
              "    <tr>\n",
              "      <th>75</th>\n",
              "      <td>NaN</td>\n",
              "      <td>NaN</td>\n",
              "      <td>NaN</td>\n",
              "      <td>NaN</td>\n",
              "    </tr>\n",
              "    <tr>\n",
              "      <th>321</th>\n",
              "      <td>NaN</td>\n",
              "      <td>NaN</td>\n",
              "      <td>NaN</td>\n",
              "      <td>NaN</td>\n",
              "    </tr>\n",
              "    <tr>\n",
              "      <th>478</th>\n",
              "      <td>NaN</td>\n",
              "      <td>NaN</td>\n",
              "      <td>NaN</td>\n",
              "      <td>NaN</td>\n",
              "    </tr>\n",
              "    <tr>\n",
              "      <th>643</th>\n",
              "      <td>NaN</td>\n",
              "      <td>NaN</td>\n",
              "      <td>NaN</td>\n",
              "      <td>NaN</td>\n",
              "    </tr>\n",
              "    <tr>\n",
              "      <th>691</th>\n",
              "      <td>NaN</td>\n",
              "      <td>NaN</td>\n",
              "      <td>NaN</td>\n",
              "      <td>NaN</td>\n",
              "    </tr>\n",
              "    <tr>\n",
              "      <th>...</th>\n",
              "      <td>...</td>\n",
              "      <td>...</td>\n",
              "      <td>...</td>\n",
              "      <td>...</td>\n",
              "    </tr>\n",
              "    <tr>\n",
              "      <th>150296</th>\n",
              "      <td>NaN</td>\n",
              "      <td>NaN</td>\n",
              "      <td>NaN</td>\n",
              "      <td>NaN</td>\n",
              "    </tr>\n",
              "    <tr>\n",
              "      <th>150388</th>\n",
              "      <td>NaN</td>\n",
              "      <td>NaN</td>\n",
              "      <td>NaN</td>\n",
              "      <td>NaN</td>\n",
              "    </tr>\n",
              "    <tr>\n",
              "      <th>150394</th>\n",
              "      <td>NaN</td>\n",
              "      <td>NaN</td>\n",
              "      <td>NaN</td>\n",
              "      <td>NaN</td>\n",
              "    </tr>\n",
              "    <tr>\n",
              "      <th>150479</th>\n",
              "      <td>NaN</td>\n",
              "      <td>NaN</td>\n",
              "      <td>NaN</td>\n",
              "      <td>NaN</td>\n",
              "    </tr>\n",
              "    <tr>\n",
              "      <th>150625</th>\n",
              "      <td>NaN</td>\n",
              "      <td>NaN</td>\n",
              "      <td>NaN</td>\n",
              "      <td>NaN</td>\n",
              "    </tr>\n",
              "  </tbody>\n",
              "</table>\n",
              "<p>829 rows × 4 columns</p>\n",
              "</div>\n",
              "      <button class=\"colab-df-convert\" onclick=\"convertToInteractive('df-795b960b-bc07-4b2b-8d4f-2a8f5b62ac89')\"\n",
              "              title=\"Convert this dataframe to an interactive table.\"\n",
              "              style=\"display:none;\">\n",
              "        \n",
              "  <svg xmlns=\"http://www.w3.org/2000/svg\" height=\"24px\"viewBox=\"0 0 24 24\"\n",
              "       width=\"24px\">\n",
              "    <path d=\"M0 0h24v24H0V0z\" fill=\"none\"/>\n",
              "    <path d=\"M18.56 5.44l.94 2.06.94-2.06 2.06-.94-2.06-.94-.94-2.06-.94 2.06-2.06.94zm-11 1L8.5 8.5l.94-2.06 2.06-.94-2.06-.94L8.5 2.5l-.94 2.06-2.06.94zm10 10l.94 2.06.94-2.06 2.06-.94-2.06-.94-.94-2.06-.94 2.06-2.06.94z\"/><path d=\"M17.41 7.96l-1.37-1.37c-.4-.4-.92-.59-1.43-.59-.52 0-1.04.2-1.43.59L10.3 9.45l-7.72 7.72c-.78.78-.78 2.05 0 2.83L4 21.41c.39.39.9.59 1.41.59.51 0 1.02-.2 1.41-.59l7.78-7.78 2.81-2.81c.8-.78.8-2.07 0-2.86zM5.41 20L4 18.59l7.72-7.72 1.47 1.35L5.41 20z\"/>\n",
              "  </svg>\n",
              "      </button>\n",
              "      \n",
              "  <style>\n",
              "    .colab-df-container {\n",
              "      display:flex;\n",
              "      flex-wrap:wrap;\n",
              "      gap: 12px;\n",
              "    }\n",
              "\n",
              "    .colab-df-convert {\n",
              "      background-color: #E8F0FE;\n",
              "      border: none;\n",
              "      border-radius: 50%;\n",
              "      cursor: pointer;\n",
              "      display: none;\n",
              "      fill: #1967D2;\n",
              "      height: 32px;\n",
              "      padding: 0 0 0 0;\n",
              "      width: 32px;\n",
              "    }\n",
              "\n",
              "    .colab-df-convert:hover {\n",
              "      background-color: #E2EBFA;\n",
              "      box-shadow: 0px 1px 2px rgba(60, 64, 67, 0.3), 0px 1px 3px 1px rgba(60, 64, 67, 0.15);\n",
              "      fill: #174EA6;\n",
              "    }\n",
              "\n",
              "    [theme=dark] .colab-df-convert {\n",
              "      background-color: #3B4455;\n",
              "      fill: #D2E3FC;\n",
              "    }\n",
              "\n",
              "    [theme=dark] .colab-df-convert:hover {\n",
              "      background-color: #434B5C;\n",
              "      box-shadow: 0px 1px 3px 1px rgba(0, 0, 0, 0.15);\n",
              "      filter: drop-shadow(0px 1px 2px rgba(0, 0, 0, 0.3));\n",
              "      fill: #FFFFFF;\n",
              "    }\n",
              "  </style>\n",
              "\n",
              "      <script>\n",
              "        const buttonEl =\n",
              "          document.querySelector('#df-795b960b-bc07-4b2b-8d4f-2a8f5b62ac89 button.colab-df-convert');\n",
              "        buttonEl.style.display =\n",
              "          google.colab.kernel.accessAllowed ? 'block' : 'none';\n",
              "\n",
              "        async function convertToInteractive(key) {\n",
              "          const element = document.querySelector('#df-795b960b-bc07-4b2b-8d4f-2a8f5b62ac89');\n",
              "          const dataTable =\n",
              "            await google.colab.kernel.invokeFunction('convertToInteractive',\n",
              "                                                     [key], {});\n",
              "          if (!dataTable) return;\n",
              "\n",
              "          const docLinkHtml = 'Like what you see? Visit the ' +\n",
              "            '<a target=\"_blank\" href=https://colab.research.google.com/notebooks/data_table.ipynb>data table notebook</a>'\n",
              "            + ' to learn more about interactive tables.';\n",
              "          element.innerHTML = '';\n",
              "          dataTable['output_type'] = 'display_data';\n",
              "          await google.colab.output.renderOutput(dataTable, element);\n",
              "          const docLink = document.createElement('div');\n",
              "          docLink.innerHTML = docLinkHtml;\n",
              "          element.appendChild(docLink);\n",
              "        }\n",
              "      </script>\n",
              "    </div>\n",
              "  </div>\n",
              "  "
            ]
          },
          "metadata": {},
          "execution_count": 46
        }
      ]
    },
    {
      "cell_type": "code",
      "source": [
        "#filling null values with 0\n",
        "col_with_null = data.columns[data.isnull().sum() != 0].to_list()\n",
        "imputer=SimpleImputer(missing_values=np.NaN, strategy='constant', fill_value=0)\n",
        "for x in col_with_null:\n",
        "    data[x]=imputer.fit_transform(data[x].values.reshape(-1,1))"
      ],
      "metadata": {
        "id": "7PIPeRaqq0xH"
      },
      "execution_count": null,
      "outputs": []
    },
    {
      "cell_type": "code",
      "source": [
        "#Since machine learning can only take numeric inputs, we will have to convert useful categorical columns to numeric form \n",
        "data.select_dtypes(include='object').columns"
      ],
      "metadata": {
        "colab": {
          "base_uri": "https://localhost:8080/"
        },
        "id": "GMRg0iraq2yF",
        "outputId": "d560d300-fb87-40dc-b11d-110220e60147"
      },
      "execution_count": null,
      "outputs": [
        {
          "output_type": "execute_result",
          "data": {
            "text/plain": [
              "Index(['tranc_yearmonth', 'town', 'flat_type', 'block', 'street_name',\n",
              "       'storey_range', 'flat_model', 'full_flat_type', 'address', 'commercial',\n",
              "       'market_hawker', 'multistorey_carpark', 'precinct_pavilion', 'postal',\n",
              "       'planning_area', 'mrt_name', 'bus_stop_name', 'pri_sch_name',\n",
              "       'sec_sch_name'],\n",
              "      dtype='object')"
            ]
          },
          "metadata": {},
          "execution_count": 48
        }
      ]
    },
    {
      "cell_type": "code",
      "source": [
        "#Checking if tranc_yearmonth is consistent with 'tranc_year', 'tranc_month'\n",
        "data[['tranc_yearmonth','tranc_year', 'tranc_month']]"
      ],
      "metadata": {
        "colab": {
          "base_uri": "https://localhost:8080/",
          "height": 423
        },
        "id": "KikJQnxXq4za",
        "outputId": "fbc94b06-4486-4b6f-bf9f-7953d543af4f"
      },
      "execution_count": null,
      "outputs": [
        {
          "output_type": "execute_result",
          "data": {
            "text/plain": [
              "       tranc_yearmonth  tranc_year  tranc_month\n",
              "0              2016-05        2016            5\n",
              "1              2012-07        2012            7\n",
              "2              2013-07        2013            7\n",
              "3              2012-04        2012            4\n",
              "4              2017-12        2017           12\n",
              "...                ...         ...          ...\n",
              "150629         2020-09        2020            9\n",
              "150630         2017-06        2017            6\n",
              "150631         2020-12        2020           12\n",
              "150632         2016-05        2016            5\n",
              "150633         2018-06        2018            6\n",
              "\n",
              "[150634 rows x 3 columns]"
            ],
            "text/html": [
              "\n",
              "  <div id=\"df-ecd0cb22-f6a0-4249-b5cf-65f4c926abbc\">\n",
              "    <div class=\"colab-df-container\">\n",
              "      <div>\n",
              "<style scoped>\n",
              "    .dataframe tbody tr th:only-of-type {\n",
              "        vertical-align: middle;\n",
              "    }\n",
              "\n",
              "    .dataframe tbody tr th {\n",
              "        vertical-align: top;\n",
              "    }\n",
              "\n",
              "    .dataframe thead th {\n",
              "        text-align: right;\n",
              "    }\n",
              "</style>\n",
              "<table border=\"1\" class=\"dataframe\">\n",
              "  <thead>\n",
              "    <tr style=\"text-align: right;\">\n",
              "      <th></th>\n",
              "      <th>tranc_yearmonth</th>\n",
              "      <th>tranc_year</th>\n",
              "      <th>tranc_month</th>\n",
              "    </tr>\n",
              "  </thead>\n",
              "  <tbody>\n",
              "    <tr>\n",
              "      <th>0</th>\n",
              "      <td>2016-05</td>\n",
              "      <td>2016</td>\n",
              "      <td>5</td>\n",
              "    </tr>\n",
              "    <tr>\n",
              "      <th>1</th>\n",
              "      <td>2012-07</td>\n",
              "      <td>2012</td>\n",
              "      <td>7</td>\n",
              "    </tr>\n",
              "    <tr>\n",
              "      <th>2</th>\n",
              "      <td>2013-07</td>\n",
              "      <td>2013</td>\n",
              "      <td>7</td>\n",
              "    </tr>\n",
              "    <tr>\n",
              "      <th>3</th>\n",
              "      <td>2012-04</td>\n",
              "      <td>2012</td>\n",
              "      <td>4</td>\n",
              "    </tr>\n",
              "    <tr>\n",
              "      <th>4</th>\n",
              "      <td>2017-12</td>\n",
              "      <td>2017</td>\n",
              "      <td>12</td>\n",
              "    </tr>\n",
              "    <tr>\n",
              "      <th>...</th>\n",
              "      <td>...</td>\n",
              "      <td>...</td>\n",
              "      <td>...</td>\n",
              "    </tr>\n",
              "    <tr>\n",
              "      <th>150629</th>\n",
              "      <td>2020-09</td>\n",
              "      <td>2020</td>\n",
              "      <td>9</td>\n",
              "    </tr>\n",
              "    <tr>\n",
              "      <th>150630</th>\n",
              "      <td>2017-06</td>\n",
              "      <td>2017</td>\n",
              "      <td>6</td>\n",
              "    </tr>\n",
              "    <tr>\n",
              "      <th>150631</th>\n",
              "      <td>2020-12</td>\n",
              "      <td>2020</td>\n",
              "      <td>12</td>\n",
              "    </tr>\n",
              "    <tr>\n",
              "      <th>150632</th>\n",
              "      <td>2016-05</td>\n",
              "      <td>2016</td>\n",
              "      <td>5</td>\n",
              "    </tr>\n",
              "    <tr>\n",
              "      <th>150633</th>\n",
              "      <td>2018-06</td>\n",
              "      <td>2018</td>\n",
              "      <td>6</td>\n",
              "    </tr>\n",
              "  </tbody>\n",
              "</table>\n",
              "<p>150634 rows × 3 columns</p>\n",
              "</div>\n",
              "      <button class=\"colab-df-convert\" onclick=\"convertToInteractive('df-ecd0cb22-f6a0-4249-b5cf-65f4c926abbc')\"\n",
              "              title=\"Convert this dataframe to an interactive table.\"\n",
              "              style=\"display:none;\">\n",
              "        \n",
              "  <svg xmlns=\"http://www.w3.org/2000/svg\" height=\"24px\"viewBox=\"0 0 24 24\"\n",
              "       width=\"24px\">\n",
              "    <path d=\"M0 0h24v24H0V0z\" fill=\"none\"/>\n",
              "    <path d=\"M18.56 5.44l.94 2.06.94-2.06 2.06-.94-2.06-.94-.94-2.06-.94 2.06-2.06.94zm-11 1L8.5 8.5l.94-2.06 2.06-.94-2.06-.94L8.5 2.5l-.94 2.06-2.06.94zm10 10l.94 2.06.94-2.06 2.06-.94-2.06-.94-.94-2.06-.94 2.06-2.06.94z\"/><path d=\"M17.41 7.96l-1.37-1.37c-.4-.4-.92-.59-1.43-.59-.52 0-1.04.2-1.43.59L10.3 9.45l-7.72 7.72c-.78.78-.78 2.05 0 2.83L4 21.41c.39.39.9.59 1.41.59.51 0 1.02-.2 1.41-.59l7.78-7.78 2.81-2.81c.8-.78.8-2.07 0-2.86zM5.41 20L4 18.59l7.72-7.72 1.47 1.35L5.41 20z\"/>\n",
              "  </svg>\n",
              "      </button>\n",
              "      \n",
              "  <style>\n",
              "    .colab-df-container {\n",
              "      display:flex;\n",
              "      flex-wrap:wrap;\n",
              "      gap: 12px;\n",
              "    }\n",
              "\n",
              "    .colab-df-convert {\n",
              "      background-color: #E8F0FE;\n",
              "      border: none;\n",
              "      border-radius: 50%;\n",
              "      cursor: pointer;\n",
              "      display: none;\n",
              "      fill: #1967D2;\n",
              "      height: 32px;\n",
              "      padding: 0 0 0 0;\n",
              "      width: 32px;\n",
              "    }\n",
              "\n",
              "    .colab-df-convert:hover {\n",
              "      background-color: #E2EBFA;\n",
              "      box-shadow: 0px 1px 2px rgba(60, 64, 67, 0.3), 0px 1px 3px 1px rgba(60, 64, 67, 0.15);\n",
              "      fill: #174EA6;\n",
              "    }\n",
              "\n",
              "    [theme=dark] .colab-df-convert {\n",
              "      background-color: #3B4455;\n",
              "      fill: #D2E3FC;\n",
              "    }\n",
              "\n",
              "    [theme=dark] .colab-df-convert:hover {\n",
              "      background-color: #434B5C;\n",
              "      box-shadow: 0px 1px 3px 1px rgba(0, 0, 0, 0.15);\n",
              "      filter: drop-shadow(0px 1px 2px rgba(0, 0, 0, 0.3));\n",
              "      fill: #FFFFFF;\n",
              "    }\n",
              "  </style>\n",
              "\n",
              "      <script>\n",
              "        const buttonEl =\n",
              "          document.querySelector('#df-ecd0cb22-f6a0-4249-b5cf-65f4c926abbc button.colab-df-convert');\n",
              "        buttonEl.style.display =\n",
              "          google.colab.kernel.accessAllowed ? 'block' : 'none';\n",
              "\n",
              "        async function convertToInteractive(key) {\n",
              "          const element = document.querySelector('#df-ecd0cb22-f6a0-4249-b5cf-65f4c926abbc');\n",
              "          const dataTable =\n",
              "            await google.colab.kernel.invokeFunction('convertToInteractive',\n",
              "                                                     [key], {});\n",
              "          if (!dataTable) return;\n",
              "\n",
              "          const docLinkHtml = 'Like what you see? Visit the ' +\n",
              "            '<a target=\"_blank\" href=https://colab.research.google.com/notebooks/data_table.ipynb>data table notebook</a>'\n",
              "            + ' to learn more about interactive tables.';\n",
              "          element.innerHTML = '';\n",
              "          dataTable['output_type'] = 'display_data';\n",
              "          await google.colab.output.renderOutput(dataTable, element);\n",
              "          const docLink = document.createElement('div');\n",
              "          docLink.innerHTML = docLinkHtml;\n",
              "          element.appendChild(docLink);\n",
              "        }\n",
              "      </script>\n",
              "    </div>\n",
              "  </div>\n",
              "  "
            ]
          },
          "metadata": {},
          "execution_count": 49
        }
      ]
    },
    {
      "cell_type": "code",
      "source": [
        "#drop trancyear\n",
        "data.drop('tranc_yearmonth', axis = 1, inplace=True)"
      ],
      "metadata": {
        "id": "pEStzN2Pq_2L"
      },
      "execution_count": null,
      "outputs": []
    },
    {
      "cell_type": "code",
      "source": [
        "#checking if storey_range column is consistent with 'mid_storey', 'lower', 'upper', 'mid'\n",
        "data[['storey_range','mid_storey', 'lower', 'upper', 'mid']]"
      ],
      "metadata": {
        "colab": {
          "base_uri": "https://localhost:8080/",
          "height": 423
        },
        "id": "ZKXsUQ2HrCs-",
        "outputId": "49e73ecf-fd11-4f33-af78-4971a7f05606"
      },
      "execution_count": null,
      "outputs": [
        {
          "output_type": "execute_result",
          "data": {
            "text/plain": [
              "       storey_range  mid_storey  lower  upper  mid\n",
              "0          10 TO 12          11     10     12   11\n",
              "1          07 TO 09           8      7      9    8\n",
              "2          13 TO 15          14     13     15   14\n",
              "3          01 TO 05           3      1      5    3\n",
              "4          01 TO 03           2      1      3    2\n",
              "...             ...         ...    ...    ...  ...\n",
              "150629     04 TO 06           5      4      6    5\n",
              "150630     04 TO 06           5      4      6    5\n",
              "150631     10 TO 12          11     10     12   11\n",
              "150632     07 TO 09           8      7      9    8\n",
              "150633     07 TO 09           8      7      9    8\n",
              "\n",
              "[150634 rows x 5 columns]"
            ],
            "text/html": [
              "\n",
              "  <div id=\"df-1f795a80-a5dc-4304-8692-641edc46d44d\">\n",
              "    <div class=\"colab-df-container\">\n",
              "      <div>\n",
              "<style scoped>\n",
              "    .dataframe tbody tr th:only-of-type {\n",
              "        vertical-align: middle;\n",
              "    }\n",
              "\n",
              "    .dataframe tbody tr th {\n",
              "        vertical-align: top;\n",
              "    }\n",
              "\n",
              "    .dataframe thead th {\n",
              "        text-align: right;\n",
              "    }\n",
              "</style>\n",
              "<table border=\"1\" class=\"dataframe\">\n",
              "  <thead>\n",
              "    <tr style=\"text-align: right;\">\n",
              "      <th></th>\n",
              "      <th>storey_range</th>\n",
              "      <th>mid_storey</th>\n",
              "      <th>lower</th>\n",
              "      <th>upper</th>\n",
              "      <th>mid</th>\n",
              "    </tr>\n",
              "  </thead>\n",
              "  <tbody>\n",
              "    <tr>\n",
              "      <th>0</th>\n",
              "      <td>10 TO 12</td>\n",
              "      <td>11</td>\n",
              "      <td>10</td>\n",
              "      <td>12</td>\n",
              "      <td>11</td>\n",
              "    </tr>\n",
              "    <tr>\n",
              "      <th>1</th>\n",
              "      <td>07 TO 09</td>\n",
              "      <td>8</td>\n",
              "      <td>7</td>\n",
              "      <td>9</td>\n",
              "      <td>8</td>\n",
              "    </tr>\n",
              "    <tr>\n",
              "      <th>2</th>\n",
              "      <td>13 TO 15</td>\n",
              "      <td>14</td>\n",
              "      <td>13</td>\n",
              "      <td>15</td>\n",
              "      <td>14</td>\n",
              "    </tr>\n",
              "    <tr>\n",
              "      <th>3</th>\n",
              "      <td>01 TO 05</td>\n",
              "      <td>3</td>\n",
              "      <td>1</td>\n",
              "      <td>5</td>\n",
              "      <td>3</td>\n",
              "    </tr>\n",
              "    <tr>\n",
              "      <th>4</th>\n",
              "      <td>01 TO 03</td>\n",
              "      <td>2</td>\n",
              "      <td>1</td>\n",
              "      <td>3</td>\n",
              "      <td>2</td>\n",
              "    </tr>\n",
              "    <tr>\n",
              "      <th>...</th>\n",
              "      <td>...</td>\n",
              "      <td>...</td>\n",
              "      <td>...</td>\n",
              "      <td>...</td>\n",
              "      <td>...</td>\n",
              "    </tr>\n",
              "    <tr>\n",
              "      <th>150629</th>\n",
              "      <td>04 TO 06</td>\n",
              "      <td>5</td>\n",
              "      <td>4</td>\n",
              "      <td>6</td>\n",
              "      <td>5</td>\n",
              "    </tr>\n",
              "    <tr>\n",
              "      <th>150630</th>\n",
              "      <td>04 TO 06</td>\n",
              "      <td>5</td>\n",
              "      <td>4</td>\n",
              "      <td>6</td>\n",
              "      <td>5</td>\n",
              "    </tr>\n",
              "    <tr>\n",
              "      <th>150631</th>\n",
              "      <td>10 TO 12</td>\n",
              "      <td>11</td>\n",
              "      <td>10</td>\n",
              "      <td>12</td>\n",
              "      <td>11</td>\n",
              "    </tr>\n",
              "    <tr>\n",
              "      <th>150632</th>\n",
              "      <td>07 TO 09</td>\n",
              "      <td>8</td>\n",
              "      <td>7</td>\n",
              "      <td>9</td>\n",
              "      <td>8</td>\n",
              "    </tr>\n",
              "    <tr>\n",
              "      <th>150633</th>\n",
              "      <td>07 TO 09</td>\n",
              "      <td>8</td>\n",
              "      <td>7</td>\n",
              "      <td>9</td>\n",
              "      <td>8</td>\n",
              "    </tr>\n",
              "  </tbody>\n",
              "</table>\n",
              "<p>150634 rows × 5 columns</p>\n",
              "</div>\n",
              "      <button class=\"colab-df-convert\" onclick=\"convertToInteractive('df-1f795a80-a5dc-4304-8692-641edc46d44d')\"\n",
              "              title=\"Convert this dataframe to an interactive table.\"\n",
              "              style=\"display:none;\">\n",
              "        \n",
              "  <svg xmlns=\"http://www.w3.org/2000/svg\" height=\"24px\"viewBox=\"0 0 24 24\"\n",
              "       width=\"24px\">\n",
              "    <path d=\"M0 0h24v24H0V0z\" fill=\"none\"/>\n",
              "    <path d=\"M18.56 5.44l.94 2.06.94-2.06 2.06-.94-2.06-.94-.94-2.06-.94 2.06-2.06.94zm-11 1L8.5 8.5l.94-2.06 2.06-.94-2.06-.94L8.5 2.5l-.94 2.06-2.06.94zm10 10l.94 2.06.94-2.06 2.06-.94-2.06-.94-.94-2.06-.94 2.06-2.06.94z\"/><path d=\"M17.41 7.96l-1.37-1.37c-.4-.4-.92-.59-1.43-.59-.52 0-1.04.2-1.43.59L10.3 9.45l-7.72 7.72c-.78.78-.78 2.05 0 2.83L4 21.41c.39.39.9.59 1.41.59.51 0 1.02-.2 1.41-.59l7.78-7.78 2.81-2.81c.8-.78.8-2.07 0-2.86zM5.41 20L4 18.59l7.72-7.72 1.47 1.35L5.41 20z\"/>\n",
              "  </svg>\n",
              "      </button>\n",
              "      \n",
              "  <style>\n",
              "    .colab-df-container {\n",
              "      display:flex;\n",
              "      flex-wrap:wrap;\n",
              "      gap: 12px;\n",
              "    }\n",
              "\n",
              "    .colab-df-convert {\n",
              "      background-color: #E8F0FE;\n",
              "      border: none;\n",
              "      border-radius: 50%;\n",
              "      cursor: pointer;\n",
              "      display: none;\n",
              "      fill: #1967D2;\n",
              "      height: 32px;\n",
              "      padding: 0 0 0 0;\n",
              "      width: 32px;\n",
              "    }\n",
              "\n",
              "    .colab-df-convert:hover {\n",
              "      background-color: #E2EBFA;\n",
              "      box-shadow: 0px 1px 2px rgba(60, 64, 67, 0.3), 0px 1px 3px 1px rgba(60, 64, 67, 0.15);\n",
              "      fill: #174EA6;\n",
              "    }\n",
              "\n",
              "    [theme=dark] .colab-df-convert {\n",
              "      background-color: #3B4455;\n",
              "      fill: #D2E3FC;\n",
              "    }\n",
              "\n",
              "    [theme=dark] .colab-df-convert:hover {\n",
              "      background-color: #434B5C;\n",
              "      box-shadow: 0px 1px 3px 1px rgba(0, 0, 0, 0.15);\n",
              "      filter: drop-shadow(0px 1px 2px rgba(0, 0, 0, 0.3));\n",
              "      fill: #FFFFFF;\n",
              "    }\n",
              "  </style>\n",
              "\n",
              "      <script>\n",
              "        const buttonEl =\n",
              "          document.querySelector('#df-1f795a80-a5dc-4304-8692-641edc46d44d button.colab-df-convert');\n",
              "        buttonEl.style.display =\n",
              "          google.colab.kernel.accessAllowed ? 'block' : 'none';\n",
              "\n",
              "        async function convertToInteractive(key) {\n",
              "          const element = document.querySelector('#df-1f795a80-a5dc-4304-8692-641edc46d44d');\n",
              "          const dataTable =\n",
              "            await google.colab.kernel.invokeFunction('convertToInteractive',\n",
              "                                                     [key], {});\n",
              "          if (!dataTable) return;\n",
              "\n",
              "          const docLinkHtml = 'Like what you see? Visit the ' +\n",
              "            '<a target=\"_blank\" href=https://colab.research.google.com/notebooks/data_table.ipynb>data table notebook</a>'\n",
              "            + ' to learn more about interactive tables.';\n",
              "          element.innerHTML = '';\n",
              "          dataTable['output_type'] = 'display_data';\n",
              "          await google.colab.output.renderOutput(dataTable, element);\n",
              "          const docLink = document.createElement('div');\n",
              "          docLink.innerHTML = docLinkHtml;\n",
              "          element.appendChild(docLink);\n",
              "        }\n",
              "      </script>\n",
              "    </div>\n",
              "  </div>\n",
              "  "
            ]
          },
          "metadata": {},
          "execution_count": 51
        }
      ]
    },
    {
      "cell_type": "code",
      "source": [
        "#Checking if mid_storey == mid columns\n",
        "(data['mid_storey'] == data['mid']).value_counts()"
      ],
      "metadata": {
        "colab": {
          "base_uri": "https://localhost:8080/"
        },
        "id": "kW_C-dQSrFDz",
        "outputId": "5b07b405-a293-4003-c16f-1d941c9cdbd7"
      },
      "execution_count": null,
      "outputs": [
        {
          "output_type": "execute_result",
          "data": {
            "text/plain": [
              "True    150634\n",
              "dtype: int64"
            ]
          },
          "metadata": {},
          "execution_count": 52
        }
      ]
    },
    {
      "cell_type": "code",
      "source": [
        "#drop storey_range and mid_storey\n",
        "data.drop(['storey_range','mid_storey'], axis = 1, inplace=True)"
      ],
      "metadata": {
        "id": "tZC1KlKprHe_"
      },
      "execution_count": null,
      "outputs": []
    },
    {
      "cell_type": "code",
      "source": [
        "#checking if town == planning_area \n",
        "data[['town', 'planning_area']]"
      ],
      "metadata": {
        "colab": {
          "base_uri": "https://localhost:8080/",
          "height": 423
        },
        "id": "gYtnGIIYrK0p",
        "outputId": "9c89798e-4496-49b8-ad99-4a13fa18edb7"
      },
      "execution_count": null,
      "outputs": [
        {
          "output_type": "execute_result",
          "data": {
            "text/plain": [
              "                   town planning_area\n",
              "0       KALLANG/WHAMPOA       Kallang\n",
              "1                BISHAN        Bishan\n",
              "2           BUKIT BATOK   Bukit Batok\n",
              "3                BISHAN        Bishan\n",
              "4                YISHUN        Yishun\n",
              "...                 ...           ...\n",
              "150629        WOODLANDS     Woodlands\n",
              "150630      JURONG WEST   Jurong West\n",
              "150631            BEDOK         Bedok\n",
              "150632       QUEENSTOWN    Queenstown\n",
              "150633           YISHUN        Yishun\n",
              "\n",
              "[150634 rows x 2 columns]"
            ],
            "text/html": [
              "\n",
              "  <div id=\"df-86916995-0d23-4c31-a819-c57084bc3339\">\n",
              "    <div class=\"colab-df-container\">\n",
              "      <div>\n",
              "<style scoped>\n",
              "    .dataframe tbody tr th:only-of-type {\n",
              "        vertical-align: middle;\n",
              "    }\n",
              "\n",
              "    .dataframe tbody tr th {\n",
              "        vertical-align: top;\n",
              "    }\n",
              "\n",
              "    .dataframe thead th {\n",
              "        text-align: right;\n",
              "    }\n",
              "</style>\n",
              "<table border=\"1\" class=\"dataframe\">\n",
              "  <thead>\n",
              "    <tr style=\"text-align: right;\">\n",
              "      <th></th>\n",
              "      <th>town</th>\n",
              "      <th>planning_area</th>\n",
              "    </tr>\n",
              "  </thead>\n",
              "  <tbody>\n",
              "    <tr>\n",
              "      <th>0</th>\n",
              "      <td>KALLANG/WHAMPOA</td>\n",
              "      <td>Kallang</td>\n",
              "    </tr>\n",
              "    <tr>\n",
              "      <th>1</th>\n",
              "      <td>BISHAN</td>\n",
              "      <td>Bishan</td>\n",
              "    </tr>\n",
              "    <tr>\n",
              "      <th>2</th>\n",
              "      <td>BUKIT BATOK</td>\n",
              "      <td>Bukit Batok</td>\n",
              "    </tr>\n",
              "    <tr>\n",
              "      <th>3</th>\n",
              "      <td>BISHAN</td>\n",
              "      <td>Bishan</td>\n",
              "    </tr>\n",
              "    <tr>\n",
              "      <th>4</th>\n",
              "      <td>YISHUN</td>\n",
              "      <td>Yishun</td>\n",
              "    </tr>\n",
              "    <tr>\n",
              "      <th>...</th>\n",
              "      <td>...</td>\n",
              "      <td>...</td>\n",
              "    </tr>\n",
              "    <tr>\n",
              "      <th>150629</th>\n",
              "      <td>WOODLANDS</td>\n",
              "      <td>Woodlands</td>\n",
              "    </tr>\n",
              "    <tr>\n",
              "      <th>150630</th>\n",
              "      <td>JURONG WEST</td>\n",
              "      <td>Jurong West</td>\n",
              "    </tr>\n",
              "    <tr>\n",
              "      <th>150631</th>\n",
              "      <td>BEDOK</td>\n",
              "      <td>Bedok</td>\n",
              "    </tr>\n",
              "    <tr>\n",
              "      <th>150632</th>\n",
              "      <td>QUEENSTOWN</td>\n",
              "      <td>Queenstown</td>\n",
              "    </tr>\n",
              "    <tr>\n",
              "      <th>150633</th>\n",
              "      <td>YISHUN</td>\n",
              "      <td>Yishun</td>\n",
              "    </tr>\n",
              "  </tbody>\n",
              "</table>\n",
              "<p>150634 rows × 2 columns</p>\n",
              "</div>\n",
              "      <button class=\"colab-df-convert\" onclick=\"convertToInteractive('df-86916995-0d23-4c31-a819-c57084bc3339')\"\n",
              "              title=\"Convert this dataframe to an interactive table.\"\n",
              "              style=\"display:none;\">\n",
              "        \n",
              "  <svg xmlns=\"http://www.w3.org/2000/svg\" height=\"24px\"viewBox=\"0 0 24 24\"\n",
              "       width=\"24px\">\n",
              "    <path d=\"M0 0h24v24H0V0z\" fill=\"none\"/>\n",
              "    <path d=\"M18.56 5.44l.94 2.06.94-2.06 2.06-.94-2.06-.94-.94-2.06-.94 2.06-2.06.94zm-11 1L8.5 8.5l.94-2.06 2.06-.94-2.06-.94L8.5 2.5l-.94 2.06-2.06.94zm10 10l.94 2.06.94-2.06 2.06-.94-2.06-.94-.94-2.06-.94 2.06-2.06.94z\"/><path d=\"M17.41 7.96l-1.37-1.37c-.4-.4-.92-.59-1.43-.59-.52 0-1.04.2-1.43.59L10.3 9.45l-7.72 7.72c-.78.78-.78 2.05 0 2.83L4 21.41c.39.39.9.59 1.41.59.51 0 1.02-.2 1.41-.59l7.78-7.78 2.81-2.81c.8-.78.8-2.07 0-2.86zM5.41 20L4 18.59l7.72-7.72 1.47 1.35L5.41 20z\"/>\n",
              "  </svg>\n",
              "      </button>\n",
              "      \n",
              "  <style>\n",
              "    .colab-df-container {\n",
              "      display:flex;\n",
              "      flex-wrap:wrap;\n",
              "      gap: 12px;\n",
              "    }\n",
              "\n",
              "    .colab-df-convert {\n",
              "      background-color: #E8F0FE;\n",
              "      border: none;\n",
              "      border-radius: 50%;\n",
              "      cursor: pointer;\n",
              "      display: none;\n",
              "      fill: #1967D2;\n",
              "      height: 32px;\n",
              "      padding: 0 0 0 0;\n",
              "      width: 32px;\n",
              "    }\n",
              "\n",
              "    .colab-df-convert:hover {\n",
              "      background-color: #E2EBFA;\n",
              "      box-shadow: 0px 1px 2px rgba(60, 64, 67, 0.3), 0px 1px 3px 1px rgba(60, 64, 67, 0.15);\n",
              "      fill: #174EA6;\n",
              "    }\n",
              "\n",
              "    [theme=dark] .colab-df-convert {\n",
              "      background-color: #3B4455;\n",
              "      fill: #D2E3FC;\n",
              "    }\n",
              "\n",
              "    [theme=dark] .colab-df-convert:hover {\n",
              "      background-color: #434B5C;\n",
              "      box-shadow: 0px 1px 3px 1px rgba(0, 0, 0, 0.15);\n",
              "      filter: drop-shadow(0px 1px 2px rgba(0, 0, 0, 0.3));\n",
              "      fill: #FFFFFF;\n",
              "    }\n",
              "  </style>\n",
              "\n",
              "      <script>\n",
              "        const buttonEl =\n",
              "          document.querySelector('#df-86916995-0d23-4c31-a819-c57084bc3339 button.colab-df-convert');\n",
              "        buttonEl.style.display =\n",
              "          google.colab.kernel.accessAllowed ? 'block' : 'none';\n",
              "\n",
              "        async function convertToInteractive(key) {\n",
              "          const element = document.querySelector('#df-86916995-0d23-4c31-a819-c57084bc3339');\n",
              "          const dataTable =\n",
              "            await google.colab.kernel.invokeFunction('convertToInteractive',\n",
              "                                                     [key], {});\n",
              "          if (!dataTable) return;\n",
              "\n",
              "          const docLinkHtml = 'Like what you see? Visit the ' +\n",
              "            '<a target=\"_blank\" href=https://colab.research.google.com/notebooks/data_table.ipynb>data table notebook</a>'\n",
              "            + ' to learn more about interactive tables.';\n",
              "          element.innerHTML = '';\n",
              "          dataTable['output_type'] = 'display_data';\n",
              "          await google.colab.output.renderOutput(dataTable, element);\n",
              "          const docLink = document.createElement('div');\n",
              "          docLink.innerHTML = docLinkHtml;\n",
              "          element.appendChild(docLink);\n",
              "        }\n",
              "      </script>\n",
              "    </div>\n",
              "  </div>\n",
              "  "
            ]
          },
          "metadata": {},
          "execution_count": 54
        }
      ]
    },
    {
      "cell_type": "code",
      "source": [
        "data['town'] = data['town'].str.lower()\n",
        "data['planning_area'] = data['planning_area'].str.lower()"
      ],
      "metadata": {
        "id": "r88CaAD-rME5"
      },
      "execution_count": null,
      "outputs": []
    },
    {
      "cell_type": "code",
      "source": [
        "data[['town', 'planning_area']]"
      ],
      "metadata": {
        "colab": {
          "base_uri": "https://localhost:8080/",
          "height": 423
        },
        "id": "HMjnEGgmrN9T",
        "outputId": "321c3780-4086-46a8-d3ab-01f719856edf"
      },
      "execution_count": null,
      "outputs": [
        {
          "output_type": "execute_result",
          "data": {
            "text/plain": [
              "                   town planning_area\n",
              "0       kallang/whampoa       kallang\n",
              "1                bishan        bishan\n",
              "2           bukit batok   bukit batok\n",
              "3                bishan        bishan\n",
              "4                yishun        yishun\n",
              "...                 ...           ...\n",
              "150629        woodlands     woodlands\n",
              "150630      jurong west   jurong west\n",
              "150631            bedok         bedok\n",
              "150632       queenstown    queenstown\n",
              "150633           yishun        yishun\n",
              "\n",
              "[150634 rows x 2 columns]"
            ],
            "text/html": [
              "\n",
              "  <div id=\"df-de1d55ad-446b-4c3a-b124-e2f3772d314b\">\n",
              "    <div class=\"colab-df-container\">\n",
              "      <div>\n",
              "<style scoped>\n",
              "    .dataframe tbody tr th:only-of-type {\n",
              "        vertical-align: middle;\n",
              "    }\n",
              "\n",
              "    .dataframe tbody tr th {\n",
              "        vertical-align: top;\n",
              "    }\n",
              "\n",
              "    .dataframe thead th {\n",
              "        text-align: right;\n",
              "    }\n",
              "</style>\n",
              "<table border=\"1\" class=\"dataframe\">\n",
              "  <thead>\n",
              "    <tr style=\"text-align: right;\">\n",
              "      <th></th>\n",
              "      <th>town</th>\n",
              "      <th>planning_area</th>\n",
              "    </tr>\n",
              "  </thead>\n",
              "  <tbody>\n",
              "    <tr>\n",
              "      <th>0</th>\n",
              "      <td>kallang/whampoa</td>\n",
              "      <td>kallang</td>\n",
              "    </tr>\n",
              "    <tr>\n",
              "      <th>1</th>\n",
              "      <td>bishan</td>\n",
              "      <td>bishan</td>\n",
              "    </tr>\n",
              "    <tr>\n",
              "      <th>2</th>\n",
              "      <td>bukit batok</td>\n",
              "      <td>bukit batok</td>\n",
              "    </tr>\n",
              "    <tr>\n",
              "      <th>3</th>\n",
              "      <td>bishan</td>\n",
              "      <td>bishan</td>\n",
              "    </tr>\n",
              "    <tr>\n",
              "      <th>4</th>\n",
              "      <td>yishun</td>\n",
              "      <td>yishun</td>\n",
              "    </tr>\n",
              "    <tr>\n",
              "      <th>...</th>\n",
              "      <td>...</td>\n",
              "      <td>...</td>\n",
              "    </tr>\n",
              "    <tr>\n",
              "      <th>150629</th>\n",
              "      <td>woodlands</td>\n",
              "      <td>woodlands</td>\n",
              "    </tr>\n",
              "    <tr>\n",
              "      <th>150630</th>\n",
              "      <td>jurong west</td>\n",
              "      <td>jurong west</td>\n",
              "    </tr>\n",
              "    <tr>\n",
              "      <th>150631</th>\n",
              "      <td>bedok</td>\n",
              "      <td>bedok</td>\n",
              "    </tr>\n",
              "    <tr>\n",
              "      <th>150632</th>\n",
              "      <td>queenstown</td>\n",
              "      <td>queenstown</td>\n",
              "    </tr>\n",
              "    <tr>\n",
              "      <th>150633</th>\n",
              "      <td>yishun</td>\n",
              "      <td>yishun</td>\n",
              "    </tr>\n",
              "  </tbody>\n",
              "</table>\n",
              "<p>150634 rows × 2 columns</p>\n",
              "</div>\n",
              "      <button class=\"colab-df-convert\" onclick=\"convertToInteractive('df-de1d55ad-446b-4c3a-b124-e2f3772d314b')\"\n",
              "              title=\"Convert this dataframe to an interactive table.\"\n",
              "              style=\"display:none;\">\n",
              "        \n",
              "  <svg xmlns=\"http://www.w3.org/2000/svg\" height=\"24px\"viewBox=\"0 0 24 24\"\n",
              "       width=\"24px\">\n",
              "    <path d=\"M0 0h24v24H0V0z\" fill=\"none\"/>\n",
              "    <path d=\"M18.56 5.44l.94 2.06.94-2.06 2.06-.94-2.06-.94-.94-2.06-.94 2.06-2.06.94zm-11 1L8.5 8.5l.94-2.06 2.06-.94-2.06-.94L8.5 2.5l-.94 2.06-2.06.94zm10 10l.94 2.06.94-2.06 2.06-.94-2.06-.94-.94-2.06-.94 2.06-2.06.94z\"/><path d=\"M17.41 7.96l-1.37-1.37c-.4-.4-.92-.59-1.43-.59-.52 0-1.04.2-1.43.59L10.3 9.45l-7.72 7.72c-.78.78-.78 2.05 0 2.83L4 21.41c.39.39.9.59 1.41.59.51 0 1.02-.2 1.41-.59l7.78-7.78 2.81-2.81c.8-.78.8-2.07 0-2.86zM5.41 20L4 18.59l7.72-7.72 1.47 1.35L5.41 20z\"/>\n",
              "  </svg>\n",
              "      </button>\n",
              "      \n",
              "  <style>\n",
              "    .colab-df-container {\n",
              "      display:flex;\n",
              "      flex-wrap:wrap;\n",
              "      gap: 12px;\n",
              "    }\n",
              "\n",
              "    .colab-df-convert {\n",
              "      background-color: #E8F0FE;\n",
              "      border: none;\n",
              "      border-radius: 50%;\n",
              "      cursor: pointer;\n",
              "      display: none;\n",
              "      fill: #1967D2;\n",
              "      height: 32px;\n",
              "      padding: 0 0 0 0;\n",
              "      width: 32px;\n",
              "    }\n",
              "\n",
              "    .colab-df-convert:hover {\n",
              "      background-color: #E2EBFA;\n",
              "      box-shadow: 0px 1px 2px rgba(60, 64, 67, 0.3), 0px 1px 3px 1px rgba(60, 64, 67, 0.15);\n",
              "      fill: #174EA6;\n",
              "    }\n",
              "\n",
              "    [theme=dark] .colab-df-convert {\n",
              "      background-color: #3B4455;\n",
              "      fill: #D2E3FC;\n",
              "    }\n",
              "\n",
              "    [theme=dark] .colab-df-convert:hover {\n",
              "      background-color: #434B5C;\n",
              "      box-shadow: 0px 1px 3px 1px rgba(0, 0, 0, 0.15);\n",
              "      filter: drop-shadow(0px 1px 2px rgba(0, 0, 0, 0.3));\n",
              "      fill: #FFFFFF;\n",
              "    }\n",
              "  </style>\n",
              "\n",
              "      <script>\n",
              "        const buttonEl =\n",
              "          document.querySelector('#df-de1d55ad-446b-4c3a-b124-e2f3772d314b button.colab-df-convert');\n",
              "        buttonEl.style.display =\n",
              "          google.colab.kernel.accessAllowed ? 'block' : 'none';\n",
              "\n",
              "        async function convertToInteractive(key) {\n",
              "          const element = document.querySelector('#df-de1d55ad-446b-4c3a-b124-e2f3772d314b');\n",
              "          const dataTable =\n",
              "            await google.colab.kernel.invokeFunction('convertToInteractive',\n",
              "                                                     [key], {});\n",
              "          if (!dataTable) return;\n",
              "\n",
              "          const docLinkHtml = 'Like what you see? Visit the ' +\n",
              "            '<a target=\"_blank\" href=https://colab.research.google.com/notebooks/data_table.ipynb>data table notebook</a>'\n",
              "            + ' to learn more about interactive tables.';\n",
              "          element.innerHTML = '';\n",
              "          dataTable['output_type'] = 'display_data';\n",
              "          await google.colab.output.renderOutput(dataTable, element);\n",
              "          const docLink = document.createElement('div');\n",
              "          docLink.innerHTML = docLinkHtml;\n",
              "          element.appendChild(docLink);\n",
              "        }\n",
              "      </script>\n",
              "    </div>\n",
              "  </div>\n",
              "  "
            ]
          },
          "metadata": {},
          "execution_count": 56
        }
      ]
    },
    {
      "cell_type": "code",
      "source": [
        "(data['town'] == data['planning_area']).value_counts()"
      ],
      "metadata": {
        "colab": {
          "base_uri": "https://localhost:8080/"
        },
        "id": "_jtX9akirROT",
        "outputId": "4bf323a9-44cb-42b4-aa79-7e606397d2c6"
      },
      "execution_count": null,
      "outputs": [
        {
          "output_type": "execute_result",
          "data": {
            "text/plain": [
              "True     144931\n",
              "False      5703\n",
              "dtype: int64"
            ]
          },
          "metadata": {},
          "execution_count": 57
        }
      ]
    },
    {
      "cell_type": "code",
      "source": [
        "data[(data['town'] == data['planning_area']) == False][['town', 'planning_area']]"
      ],
      "metadata": {
        "colab": {
          "base_uri": "https://localhost:8080/",
          "height": 423
        },
        "id": "Qv8glON2rStw",
        "outputId": "0cc85c9d-7236-48b7-be9c-10229543856f"
      },
      "execution_count": null,
      "outputs": [
        {
          "output_type": "execute_result",
          "data": {
            "text/plain": [
              "                   town planning_area\n",
              "0       kallang/whampoa       kallang\n",
              "32      kallang/whampoa        novena\n",
              "35      kallang/whampoa       kallang\n",
              "55      kallang/whampoa       kallang\n",
              "88         central area        rochor\n",
              "...                 ...           ...\n",
              "150507  kallang/whampoa       kallang\n",
              "150510  kallang/whampoa       kallang\n",
              "150511  kallang/whampoa       kallang\n",
              "150524     central area        outram\n",
              "150573     central area        outram\n",
              "\n",
              "[5703 rows x 2 columns]"
            ],
            "text/html": [
              "\n",
              "  <div id=\"df-307dc1e8-5fdf-4a69-ae22-4bafa166441e\">\n",
              "    <div class=\"colab-df-container\">\n",
              "      <div>\n",
              "<style scoped>\n",
              "    .dataframe tbody tr th:only-of-type {\n",
              "        vertical-align: middle;\n",
              "    }\n",
              "\n",
              "    .dataframe tbody tr th {\n",
              "        vertical-align: top;\n",
              "    }\n",
              "\n",
              "    .dataframe thead th {\n",
              "        text-align: right;\n",
              "    }\n",
              "</style>\n",
              "<table border=\"1\" class=\"dataframe\">\n",
              "  <thead>\n",
              "    <tr style=\"text-align: right;\">\n",
              "      <th></th>\n",
              "      <th>town</th>\n",
              "      <th>planning_area</th>\n",
              "    </tr>\n",
              "  </thead>\n",
              "  <tbody>\n",
              "    <tr>\n",
              "      <th>0</th>\n",
              "      <td>kallang/whampoa</td>\n",
              "      <td>kallang</td>\n",
              "    </tr>\n",
              "    <tr>\n",
              "      <th>32</th>\n",
              "      <td>kallang/whampoa</td>\n",
              "      <td>novena</td>\n",
              "    </tr>\n",
              "    <tr>\n",
              "      <th>35</th>\n",
              "      <td>kallang/whampoa</td>\n",
              "      <td>kallang</td>\n",
              "    </tr>\n",
              "    <tr>\n",
              "      <th>55</th>\n",
              "      <td>kallang/whampoa</td>\n",
              "      <td>kallang</td>\n",
              "    </tr>\n",
              "    <tr>\n",
              "      <th>88</th>\n",
              "      <td>central area</td>\n",
              "      <td>rochor</td>\n",
              "    </tr>\n",
              "    <tr>\n",
              "      <th>...</th>\n",
              "      <td>...</td>\n",
              "      <td>...</td>\n",
              "    </tr>\n",
              "    <tr>\n",
              "      <th>150507</th>\n",
              "      <td>kallang/whampoa</td>\n",
              "      <td>kallang</td>\n",
              "    </tr>\n",
              "    <tr>\n",
              "      <th>150510</th>\n",
              "      <td>kallang/whampoa</td>\n",
              "      <td>kallang</td>\n",
              "    </tr>\n",
              "    <tr>\n",
              "      <th>150511</th>\n",
              "      <td>kallang/whampoa</td>\n",
              "      <td>kallang</td>\n",
              "    </tr>\n",
              "    <tr>\n",
              "      <th>150524</th>\n",
              "      <td>central area</td>\n",
              "      <td>outram</td>\n",
              "    </tr>\n",
              "    <tr>\n",
              "      <th>150573</th>\n",
              "      <td>central area</td>\n",
              "      <td>outram</td>\n",
              "    </tr>\n",
              "  </tbody>\n",
              "</table>\n",
              "<p>5703 rows × 2 columns</p>\n",
              "</div>\n",
              "      <button class=\"colab-df-convert\" onclick=\"convertToInteractive('df-307dc1e8-5fdf-4a69-ae22-4bafa166441e')\"\n",
              "              title=\"Convert this dataframe to an interactive table.\"\n",
              "              style=\"display:none;\">\n",
              "        \n",
              "  <svg xmlns=\"http://www.w3.org/2000/svg\" height=\"24px\"viewBox=\"0 0 24 24\"\n",
              "       width=\"24px\">\n",
              "    <path d=\"M0 0h24v24H0V0z\" fill=\"none\"/>\n",
              "    <path d=\"M18.56 5.44l.94 2.06.94-2.06 2.06-.94-2.06-.94-.94-2.06-.94 2.06-2.06.94zm-11 1L8.5 8.5l.94-2.06 2.06-.94-2.06-.94L8.5 2.5l-.94 2.06-2.06.94zm10 10l.94 2.06.94-2.06 2.06-.94-2.06-.94-.94-2.06-.94 2.06-2.06.94z\"/><path d=\"M17.41 7.96l-1.37-1.37c-.4-.4-.92-.59-1.43-.59-.52 0-1.04.2-1.43.59L10.3 9.45l-7.72 7.72c-.78.78-.78 2.05 0 2.83L4 21.41c.39.39.9.59 1.41.59.51 0 1.02-.2 1.41-.59l7.78-7.78 2.81-2.81c.8-.78.8-2.07 0-2.86zM5.41 20L4 18.59l7.72-7.72 1.47 1.35L5.41 20z\"/>\n",
              "  </svg>\n",
              "      </button>\n",
              "      \n",
              "  <style>\n",
              "    .colab-df-container {\n",
              "      display:flex;\n",
              "      flex-wrap:wrap;\n",
              "      gap: 12px;\n",
              "    }\n",
              "\n",
              "    .colab-df-convert {\n",
              "      background-color: #E8F0FE;\n",
              "      border: none;\n",
              "      border-radius: 50%;\n",
              "      cursor: pointer;\n",
              "      display: none;\n",
              "      fill: #1967D2;\n",
              "      height: 32px;\n",
              "      padding: 0 0 0 0;\n",
              "      width: 32px;\n",
              "    }\n",
              "\n",
              "    .colab-df-convert:hover {\n",
              "      background-color: #E2EBFA;\n",
              "      box-shadow: 0px 1px 2px rgba(60, 64, 67, 0.3), 0px 1px 3px 1px rgba(60, 64, 67, 0.15);\n",
              "      fill: #174EA6;\n",
              "    }\n",
              "\n",
              "    [theme=dark] .colab-df-convert {\n",
              "      background-color: #3B4455;\n",
              "      fill: #D2E3FC;\n",
              "    }\n",
              "\n",
              "    [theme=dark] .colab-df-convert:hover {\n",
              "      background-color: #434B5C;\n",
              "      box-shadow: 0px 1px 3px 1px rgba(0, 0, 0, 0.15);\n",
              "      filter: drop-shadow(0px 1px 2px rgba(0, 0, 0, 0.3));\n",
              "      fill: #FFFFFF;\n",
              "    }\n",
              "  </style>\n",
              "\n",
              "      <script>\n",
              "        const buttonEl =\n",
              "          document.querySelector('#df-307dc1e8-5fdf-4a69-ae22-4bafa166441e button.colab-df-convert');\n",
              "        buttonEl.style.display =\n",
              "          google.colab.kernel.accessAllowed ? 'block' : 'none';\n",
              "\n",
              "        async function convertToInteractive(key) {\n",
              "          const element = document.querySelector('#df-307dc1e8-5fdf-4a69-ae22-4bafa166441e');\n",
              "          const dataTable =\n",
              "            await google.colab.kernel.invokeFunction('convertToInteractive',\n",
              "                                                     [key], {});\n",
              "          if (!dataTable) return;\n",
              "\n",
              "          const docLinkHtml = 'Like what you see? Visit the ' +\n",
              "            '<a target=\"_blank\" href=https://colab.research.google.com/notebooks/data_table.ipynb>data table notebook</a>'\n",
              "            + ' to learn more about interactive tables.';\n",
              "          element.innerHTML = '';\n",
              "          dataTable['output_type'] = 'display_data';\n",
              "          await google.colab.output.renderOutput(dataTable, element);\n",
              "          const docLink = document.createElement('div');\n",
              "          docLink.innerHTML = docLinkHtml;\n",
              "          element.appendChild(docLink);\n",
              "        }\n",
              "      </script>\n",
              "    </div>\n",
              "  </div>\n",
              "  "
            ]
          },
          "metadata": {},
          "execution_count": 58
        }
      ]
    },
    {
      "cell_type": "code",
      "source": [
        "#Planning area is more precise than town so we will drop town since most values are repeated\n",
        "data.drop('town', axis = 1, inplace=True)"
      ],
      "metadata": {
        "id": "f8R4J_k6rUyx"
      },
      "execution_count": null,
      "outputs": []
    },
    {
      "cell_type": "code",
      "source": [
        "#checking if flat_type and full_flat_type is consistent\n",
        "(data['flat_type'] == data['full_flat_type']).value_counts()"
      ],
      "metadata": {
        "colab": {
          "base_uri": "https://localhost:8080/"
        },
        "id": "j-XDtBasrWZJ",
        "outputId": "033a2a29-3f9b-4554-96c3-92d0a745625b"
      },
      "execution_count": null,
      "outputs": [
        {
          "output_type": "execute_result",
          "data": {
            "text/plain": [
              "False    150634\n",
              "dtype: int64"
            ]
          },
          "metadata": {},
          "execution_count": 60
        }
      ]
    },
    {
      "cell_type": "code",
      "source": [
        "data[['flat_type', 'full_flat_type', 'flat_model']]"
      ],
      "metadata": {
        "colab": {
          "base_uri": "https://localhost:8080/",
          "height": 423
        },
        "id": "u-S_lnMcrYuV",
        "outputId": "7b1b0dd8-81dd-4d84-d7e6-261387c4f0f7"
      },
      "execution_count": null,
      "outputs": [
        {
          "output_type": "execute_result",
          "data": {
            "text/plain": [
              "               flat_type                     full_flat_type        flat_model\n",
              "0                 4 ROOM                     4 ROOM Model A           Model A\n",
              "1                 5 ROOM                    5 ROOM Improved          Improved\n",
              "2              EXECUTIVE                EXECUTIVE Apartment         Apartment\n",
              "3                 4 ROOM                     4 ROOM Model A           Model A\n",
              "4                 4 ROOM                  4 ROOM Simplified        Simplified\n",
              "...                  ...                                ...               ...\n",
              "150629         EXECUTIVE                EXECUTIVE Apartment         Apartment\n",
              "150630            5 ROOM                    5 ROOM Improved          Improved\n",
              "150631         EXECUTIVE                EXECUTIVE Apartment         Apartment\n",
              "150632            3 ROOM                    3 ROOM Improved          Improved\n",
              "150633  MULTI-GENERATION  MULTI-GENERATION Multi Generation  Multi Generation\n",
              "\n",
              "[150634 rows x 3 columns]"
            ],
            "text/html": [
              "\n",
              "  <div id=\"df-0e1171dc-9aef-4f5b-82c1-15b8a2ea4f78\">\n",
              "    <div class=\"colab-df-container\">\n",
              "      <div>\n",
              "<style scoped>\n",
              "    .dataframe tbody tr th:only-of-type {\n",
              "        vertical-align: middle;\n",
              "    }\n",
              "\n",
              "    .dataframe tbody tr th {\n",
              "        vertical-align: top;\n",
              "    }\n",
              "\n",
              "    .dataframe thead th {\n",
              "        text-align: right;\n",
              "    }\n",
              "</style>\n",
              "<table border=\"1\" class=\"dataframe\">\n",
              "  <thead>\n",
              "    <tr style=\"text-align: right;\">\n",
              "      <th></th>\n",
              "      <th>flat_type</th>\n",
              "      <th>full_flat_type</th>\n",
              "      <th>flat_model</th>\n",
              "    </tr>\n",
              "  </thead>\n",
              "  <tbody>\n",
              "    <tr>\n",
              "      <th>0</th>\n",
              "      <td>4 ROOM</td>\n",
              "      <td>4 ROOM Model A</td>\n",
              "      <td>Model A</td>\n",
              "    </tr>\n",
              "    <tr>\n",
              "      <th>1</th>\n",
              "      <td>5 ROOM</td>\n",
              "      <td>5 ROOM Improved</td>\n",
              "      <td>Improved</td>\n",
              "    </tr>\n",
              "    <tr>\n",
              "      <th>2</th>\n",
              "      <td>EXECUTIVE</td>\n",
              "      <td>EXECUTIVE Apartment</td>\n",
              "      <td>Apartment</td>\n",
              "    </tr>\n",
              "    <tr>\n",
              "      <th>3</th>\n",
              "      <td>4 ROOM</td>\n",
              "      <td>4 ROOM Model A</td>\n",
              "      <td>Model A</td>\n",
              "    </tr>\n",
              "    <tr>\n",
              "      <th>4</th>\n",
              "      <td>4 ROOM</td>\n",
              "      <td>4 ROOM Simplified</td>\n",
              "      <td>Simplified</td>\n",
              "    </tr>\n",
              "    <tr>\n",
              "      <th>...</th>\n",
              "      <td>...</td>\n",
              "      <td>...</td>\n",
              "      <td>...</td>\n",
              "    </tr>\n",
              "    <tr>\n",
              "      <th>150629</th>\n",
              "      <td>EXECUTIVE</td>\n",
              "      <td>EXECUTIVE Apartment</td>\n",
              "      <td>Apartment</td>\n",
              "    </tr>\n",
              "    <tr>\n",
              "      <th>150630</th>\n",
              "      <td>5 ROOM</td>\n",
              "      <td>5 ROOM Improved</td>\n",
              "      <td>Improved</td>\n",
              "    </tr>\n",
              "    <tr>\n",
              "      <th>150631</th>\n",
              "      <td>EXECUTIVE</td>\n",
              "      <td>EXECUTIVE Apartment</td>\n",
              "      <td>Apartment</td>\n",
              "    </tr>\n",
              "    <tr>\n",
              "      <th>150632</th>\n",
              "      <td>3 ROOM</td>\n",
              "      <td>3 ROOM Improved</td>\n",
              "      <td>Improved</td>\n",
              "    </tr>\n",
              "    <tr>\n",
              "      <th>150633</th>\n",
              "      <td>MULTI-GENERATION</td>\n",
              "      <td>MULTI-GENERATION Multi Generation</td>\n",
              "      <td>Multi Generation</td>\n",
              "    </tr>\n",
              "  </tbody>\n",
              "</table>\n",
              "<p>150634 rows × 3 columns</p>\n",
              "</div>\n",
              "      <button class=\"colab-df-convert\" onclick=\"convertToInteractive('df-0e1171dc-9aef-4f5b-82c1-15b8a2ea4f78')\"\n",
              "              title=\"Convert this dataframe to an interactive table.\"\n",
              "              style=\"display:none;\">\n",
              "        \n",
              "  <svg xmlns=\"http://www.w3.org/2000/svg\" height=\"24px\"viewBox=\"0 0 24 24\"\n",
              "       width=\"24px\">\n",
              "    <path d=\"M0 0h24v24H0V0z\" fill=\"none\"/>\n",
              "    <path d=\"M18.56 5.44l.94 2.06.94-2.06 2.06-.94-2.06-.94-.94-2.06-.94 2.06-2.06.94zm-11 1L8.5 8.5l.94-2.06 2.06-.94-2.06-.94L8.5 2.5l-.94 2.06-2.06.94zm10 10l.94 2.06.94-2.06 2.06-.94-2.06-.94-.94-2.06-.94 2.06-2.06.94z\"/><path d=\"M17.41 7.96l-1.37-1.37c-.4-.4-.92-.59-1.43-.59-.52 0-1.04.2-1.43.59L10.3 9.45l-7.72 7.72c-.78.78-.78 2.05 0 2.83L4 21.41c.39.39.9.59 1.41.59.51 0 1.02-.2 1.41-.59l7.78-7.78 2.81-2.81c.8-.78.8-2.07 0-2.86zM5.41 20L4 18.59l7.72-7.72 1.47 1.35L5.41 20z\"/>\n",
              "  </svg>\n",
              "      </button>\n",
              "      \n",
              "  <style>\n",
              "    .colab-df-container {\n",
              "      display:flex;\n",
              "      flex-wrap:wrap;\n",
              "      gap: 12px;\n",
              "    }\n",
              "\n",
              "    .colab-df-convert {\n",
              "      background-color: #E8F0FE;\n",
              "      border: none;\n",
              "      border-radius: 50%;\n",
              "      cursor: pointer;\n",
              "      display: none;\n",
              "      fill: #1967D2;\n",
              "      height: 32px;\n",
              "      padding: 0 0 0 0;\n",
              "      width: 32px;\n",
              "    }\n",
              "\n",
              "    .colab-df-convert:hover {\n",
              "      background-color: #E2EBFA;\n",
              "      box-shadow: 0px 1px 2px rgba(60, 64, 67, 0.3), 0px 1px 3px 1px rgba(60, 64, 67, 0.15);\n",
              "      fill: #174EA6;\n",
              "    }\n",
              "\n",
              "    [theme=dark] .colab-df-convert {\n",
              "      background-color: #3B4455;\n",
              "      fill: #D2E3FC;\n",
              "    }\n",
              "\n",
              "    [theme=dark] .colab-df-convert:hover {\n",
              "      background-color: #434B5C;\n",
              "      box-shadow: 0px 1px 3px 1px rgba(0, 0, 0, 0.15);\n",
              "      filter: drop-shadow(0px 1px 2px rgba(0, 0, 0, 0.3));\n",
              "      fill: #FFFFFF;\n",
              "    }\n",
              "  </style>\n",
              "\n",
              "      <script>\n",
              "        const buttonEl =\n",
              "          document.querySelector('#df-0e1171dc-9aef-4f5b-82c1-15b8a2ea4f78 button.colab-df-convert');\n",
              "        buttonEl.style.display =\n",
              "          google.colab.kernel.accessAllowed ? 'block' : 'none';\n",
              "\n",
              "        async function convertToInteractive(key) {\n",
              "          const element = document.querySelector('#df-0e1171dc-9aef-4f5b-82c1-15b8a2ea4f78');\n",
              "          const dataTable =\n",
              "            await google.colab.kernel.invokeFunction('convertToInteractive',\n",
              "                                                     [key], {});\n",
              "          if (!dataTable) return;\n",
              "\n",
              "          const docLinkHtml = 'Like what you see? Visit the ' +\n",
              "            '<a target=\"_blank\" href=https://colab.research.google.com/notebooks/data_table.ipynb>data table notebook</a>'\n",
              "            + ' to learn more about interactive tables.';\n",
              "          element.innerHTML = '';\n",
              "          dataTable['output_type'] = 'display_data';\n",
              "          await google.colab.output.renderOutput(dataTable, element);\n",
              "          const docLink = document.createElement('div');\n",
              "          docLink.innerHTML = docLinkHtml;\n",
              "          element.appendChild(docLink);\n",
              "        }\n",
              "      </script>\n",
              "    </div>\n",
              "  </div>\n",
              "  "
            ]
          },
          "metadata": {},
          "execution_count": 61
        }
      ]
    },
    {
      "cell_type": "code",
      "source": [
        "#drop full_flat_type \n",
        "data.drop('full_flat_type', axis = 1, inplace = True)"
      ],
      "metadata": {
        "id": "ZjNh7pSFra01"
      },
      "execution_count": null,
      "outputs": []
    },
    {
      "cell_type": "code",
      "source": [
        "#checking remaining object dtype columns and the number of values\n",
        "for x in data.select_dtypes(include='object').columns:\n",
        "    print(x, len(data[x].unique()))"
      ],
      "metadata": {
        "colab": {
          "base_uri": "https://localhost:8080/"
        },
        "id": "tI14ixd-rcWy",
        "outputId": "41c8ccb9-5cc9-416d-d46d-dd7b5f3a6da1"
      },
      "execution_count": null,
      "outputs": [
        {
          "output_type": "stream",
          "name": "stdout",
          "text": [
            "flat_type 7\n",
            "block 2514\n",
            "street_name 553\n",
            "flat_model 20\n",
            "address 9157\n",
            "commercial 2\n",
            "market_hawker 2\n",
            "multistorey_carpark 2\n",
            "precinct_pavilion 2\n",
            "postal 17483\n",
            "planning_area 32\n",
            "mrt_name 94\n",
            "bus_stop_name 1657\n",
            "pri_sch_name 177\n",
            "sec_sch_name 134\n"
          ]
        }
      ]
    },
    {
      "cell_type": "code",
      "source": [
        "#dropping block, street_name, address, postal and bus_stop_name as there are too many unique values \n",
        "data.drop(['block', 'street_name', 'address', 'postal', 'bus_stop_name'], axis = 1, inplace = True)"
      ],
      "metadata": {
        "id": "hRGSNC-1rduQ"
      },
      "execution_count": null,
      "outputs": []
    },
    {
      "cell_type": "code",
      "source": [
        "#Checking remaining columns\n",
        "data.columns"
      ],
      "metadata": {
        "colab": {
          "base_uri": "https://localhost:8080/"
        },
        "id": "7qeP8DAQrgyr",
        "outputId": "df6a6825-cbfa-4511-d6be-e27d7c07d0e3"
      },
      "execution_count": null,
      "outputs": [
        {
          "output_type": "execute_result",
          "data": {
            "text/plain": [
              "Index(['flat_type', 'floor_area_sqm', 'flat_model', 'lease_commence_date',\n",
              "       'resale_price', 'tranc_year', 'tranc_month', 'lower', 'upper', 'mid',\n",
              "       'floor_area_sqft', 'hdb_age', 'max_floor_lvl', 'year_completed',\n",
              "       'commercial', 'market_hawker', 'multistorey_carpark',\n",
              "       'precinct_pavilion', 'total_dwelling_units', '1room_sold', '2room_sold',\n",
              "       '3room_sold', '4room_sold', '5room_sold', 'exec_sold', 'multigen_sold',\n",
              "       'studio_apartment_sold', '1room_rental', '2room_rental', '3room_rental',\n",
              "       'other_room_rental', 'latitude', 'longitude', 'planning_area',\n",
              "       'mall_nearest_distance', 'mall_within_500m', 'mall_within_1km',\n",
              "       'mall_within_2km', 'hawker_nearest_distance', 'hawker_within_500m',\n",
              "       'hawker_within_1km', 'hawker_within_2km', 'hawker_food_stalls',\n",
              "       'hawker_market_stalls', 'mrt_nearest_distance', 'mrt_name',\n",
              "       'bus_interchange', 'mrt_interchange', 'mrt_latitude', 'mrt_longitude',\n",
              "       'bus_stop_nearest_distance', 'bus_stop_latitude', 'bus_stop_longitude',\n",
              "       'pri_sch_nearest_distance', 'pri_sch_name', 'vacancy',\n",
              "       'pri_sch_affiliation', 'pri_sch_latitude', 'pri_sch_longitude',\n",
              "       'sec_sch_nearest_dist', 'sec_sch_name', 'cutoff_point', 'affiliation',\n",
              "       'sec_sch_latitude', 'sec_sch_longitude'],\n",
              "      dtype='object')"
            ]
          },
          "metadata": {},
          "execution_count": 65
        }
      ]
    },
    {
      "cell_type": "code",
      "source": [
        "#dropping longitude and latitude columns\n",
        "data.drop(['latitude', 'longitude', 'mrt_latitude', 'mrt_longitude', 'bus_stop_latitude', 'bus_stop_longitude', 'pri_sch_latitude', 'pri_sch_longitude', 'sec_sch_latitude', 'sec_sch_longitude'], axis = 1, inplace = True)"
      ],
      "metadata": {
        "id": "2fkZOTqmruA2"
      },
      "execution_count": null,
      "outputs": []
    },
    {
      "cell_type": "code",
      "source": [
        "#droppping floor_area_sqft becauses we have floor_area_sqm\n",
        "data.drop('floor_area_sqft', axis = 1, inplace = True)"
      ],
      "metadata": {
        "id": "DuSLEv7LwHfF"
      },
      "execution_count": null,
      "outputs": []
    },
    {
      "cell_type": "code",
      "source": [
        "data.columns"
      ],
      "metadata": {
        "colab": {
          "base_uri": "https://localhost:8080/"
        },
        "id": "8DC_CB5XrxUV",
        "outputId": "0e7c19bd-8d67-430d-d491-94989b673c3d"
      },
      "execution_count": null,
      "outputs": [
        {
          "output_type": "execute_result",
          "data": {
            "text/plain": [
              "Index(['flat_type', 'floor_area_sqm', 'flat_model', 'lease_commence_date',\n",
              "       'resale_price', 'tranc_year', 'tranc_month', 'lower', 'upper', 'mid',\n",
              "       'hdb_age', 'max_floor_lvl', 'year_completed', 'commercial',\n",
              "       'market_hawker', 'multistorey_carpark', 'precinct_pavilion',\n",
              "       'total_dwelling_units', '1room_sold', '2room_sold', '3room_sold',\n",
              "       '4room_sold', '5room_sold', 'exec_sold', 'multigen_sold',\n",
              "       'studio_apartment_sold', '1room_rental', '2room_rental', '3room_rental',\n",
              "       'other_room_rental', 'planning_area', 'mall_nearest_distance',\n",
              "       'mall_within_500m', 'mall_within_1km', 'mall_within_2km',\n",
              "       'hawker_nearest_distance', 'hawker_within_500m', 'hawker_within_1km',\n",
              "       'hawker_within_2km', 'hawker_food_stalls', 'hawker_market_stalls',\n",
              "       'mrt_nearest_distance', 'mrt_name', 'bus_interchange',\n",
              "       'mrt_interchange', 'bus_stop_nearest_distance',\n",
              "       'pri_sch_nearest_distance', 'pri_sch_name', 'vacancy',\n",
              "       'pri_sch_affiliation', 'sec_sch_nearest_dist', 'sec_sch_name',\n",
              "       'cutoff_point', 'affiliation'],\n",
              "      dtype='object')"
            ]
          },
          "metadata": {},
          "execution_count": 68
        }
      ]
    },
    {
      "cell_type": "code",
      "source": [
        "#dropping lease_commence_date and year_completed because we have hdb_age\n",
        "data.drop(['lease_commence_date','year_completed'], axis = 1, inplace = True)"
      ],
      "metadata": {
        "id": "YzvUKUwGxTBg"
      },
      "execution_count": null,
      "outputs": []
    },
    {
      "cell_type": "code",
      "source": [
        "data.select_dtypes(include='object').columns"
      ],
      "metadata": {
        "colab": {
          "base_uri": "https://localhost:8080/"
        },
        "id": "HcFDmedpsRdW",
        "outputId": "dd04b54b-0c74-4a86-9f0e-e4d349966b71"
      },
      "execution_count": null,
      "outputs": [
        {
          "output_type": "execute_result",
          "data": {
            "text/plain": [
              "Index(['flat_type', 'flat_model', 'commercial', 'market_hawker',\n",
              "       'multistorey_carpark', 'precinct_pavilion', 'planning_area', 'mrt_name',\n",
              "       'pri_sch_name', 'sec_sch_name'],\n",
              "      dtype='object')"
            ]
          },
          "metadata": {},
          "execution_count": 70
        }
      ]
    },
    {
      "cell_type": "code",
      "source": [
        "data.select_dtypes(include=('int64', 'float64')).columns"
      ],
      "metadata": {
        "colab": {
          "base_uri": "https://localhost:8080/"
        },
        "id": "MF2Q1_KXsye-",
        "outputId": "d5d986f8-1951-409b-e8e6-94911a7dd09a"
      },
      "execution_count": null,
      "outputs": [
        {
          "output_type": "execute_result",
          "data": {
            "text/plain": [
              "Index(['floor_area_sqm', 'resale_price', 'tranc_year', 'tranc_month', 'lower',\n",
              "       'upper', 'mid', 'hdb_age', 'max_floor_lvl', 'total_dwelling_units',\n",
              "       '1room_sold', '2room_sold', '3room_sold', '4room_sold', '5room_sold',\n",
              "       'exec_sold', 'multigen_sold', 'studio_apartment_sold', '1room_rental',\n",
              "       '2room_rental', '3room_rental', 'other_room_rental',\n",
              "       'mall_nearest_distance', 'mall_within_500m', 'mall_within_1km',\n",
              "       'mall_within_2km', 'hawker_nearest_distance', 'hawker_within_500m',\n",
              "       'hawker_within_1km', 'hawker_within_2km', 'hawker_food_stalls',\n",
              "       'hawker_market_stalls', 'mrt_nearest_distance', 'bus_interchange',\n",
              "       'mrt_interchange', 'bus_stop_nearest_distance',\n",
              "       'pri_sch_nearest_distance', 'vacancy', 'pri_sch_affiliation',\n",
              "       'sec_sch_nearest_dist', 'cutoff_point', 'affiliation'],\n",
              "      dtype='object')"
            ]
          },
          "metadata": {},
          "execution_count": 71
        }
      ]
    },
    {
      "cell_type": "markdown",
      "source": [
        "### cleaning stops here"
      ],
      "metadata": {
        "id": "2ky9gUhvsKzS"
      }
    },
    {
      "cell_type": "markdown",
      "source": [
        "-------------------"
      ],
      "metadata": {
        "id": "IxzGKAzzprdT"
      }
    },
    {
      "cell_type": "markdown",
      "source": [
        "# EDA and Features Selection\n",
        "<small>Additional Guidelines for Project2:<br>\n",
        "Please sign up for the project 2 kaggle competition. You will then be able to upload your predictions for the kaggle test set and get your scores.<br>\n",
        "Do not use any library such as “pandas-profiling” that automate the EDA process for you. We want you to be familiar with going through EDA steps on your own.<br>\n",
        "Do not include the feature “price_per_sqft” in your models as this would result in target leakage.<br>\n",
        "Do not use any imputation methods that are more complex than regression or KNN imputation<br>\n",
        "Do not use advanced models such as neural networks, xgboost, etc. Based on the README.md file, you would need to have 3 models (linear regression, lasso, and ridge)<br>\n",
        "Do try to limit the number of features in your final model to <30 features if possible.<br>\n",
        "Ensure each member has enough content to cover and time to speak"
      ],
      "metadata": {
        "id": "N4YMwMxJtk7S"
      }
    },
    {
      "cell_type": "markdown",
      "source": [
        "### Codes"
      ],
      "metadata": {
        "id": "3U7tcC9206kP"
      }
    },
    {
      "cell_type": "code",
      "source": [
        "# Define a function to compute correlations and plot the graph\n",
        "def compute_correlations_and_plot(df, category_name):\n",
        "    # Compute correlations\n",
        "    correlations = df.corr()['resale_price'].drop('resale_price')\n",
        "\n",
        "    # Sort the correlations\n",
        "    sorted_correlations = correlations.sort_values(ascending=False)\n",
        "\n",
        "    # Plot the correlations\n",
        "    plt.figure(figsize=(10, 6))\n",
        "    sns.barplot(x=sorted_correlations.index, y=sorted_correlations.values)\n",
        "    plt.xticks(rotation=90)\n",
        "    plt.xlabel('Columns')\n",
        "    plt.ylabel('Correlation with Resale Price')\n",
        "    plt.title(f'Correlations with Resale Price for {category_name}')\n",
        "    plt.tight_layout()\n",
        "    plt.show()\n",
        "\n",
        "\n",
        "\n",
        "\n",
        "# Compute correlations and plot graphs for each category\n",
        "compute_correlations_and_plot(property_details_df, 'Property Details')\n",
        "compute_correlations_and_plot(sold_rental_units_df, 'Sold and Rental Units')\n",
        "compute_correlations_and_plot(location_df, 'Location')\n",
        "compute_correlations_and_plot(facilities_df, 'Facilities')\n"
      ],
      "metadata": {
        "id": "Yozs7wGgwEaq",
        "outputId": "ab257547-9634-4fb8-9986-71b4dac804fd",
        "colab": {
          "base_uri": "https://localhost:8080/",
          "height": 235
        }
      },
      "execution_count": null,
      "outputs": [
        {
          "output_type": "error",
          "ename": "NameError",
          "evalue": "ignored",
          "traceback": [
            "\u001b[0;31m---------------------------------------------------------------------------\u001b[0m",
            "\u001b[0;31mNameError\u001b[0m                                 Traceback (most recent call last)",
            "\u001b[0;32m<ipython-input-72-948c462b3b7e>\u001b[0m in \u001b[0;36m<cell line: 23>\u001b[0;34m()\u001b[0m\n\u001b[1;32m     21\u001b[0m \u001b[0;34m\u001b[0m\u001b[0m\n\u001b[1;32m     22\u001b[0m \u001b[0;31m# Compute correlations and plot graphs for each category\u001b[0m\u001b[0;34m\u001b[0m\u001b[0;34m\u001b[0m\u001b[0m\n\u001b[0;32m---> 23\u001b[0;31m \u001b[0mcompute_correlations_and_plot\u001b[0m\u001b[0;34m(\u001b[0m\u001b[0mproperty_details_df\u001b[0m\u001b[0;34m,\u001b[0m \u001b[0;34m'Property Details'\u001b[0m\u001b[0;34m)\u001b[0m\u001b[0;34m\u001b[0m\u001b[0;34m\u001b[0m\u001b[0m\n\u001b[0m\u001b[1;32m     24\u001b[0m \u001b[0mcompute_correlations_and_plot\u001b[0m\u001b[0;34m(\u001b[0m\u001b[0msold_rental_units_df\u001b[0m\u001b[0;34m,\u001b[0m \u001b[0;34m'Sold and Rental Units'\u001b[0m\u001b[0;34m)\u001b[0m\u001b[0;34m\u001b[0m\u001b[0;34m\u001b[0m\u001b[0m\n\u001b[1;32m     25\u001b[0m \u001b[0mcompute_correlations_and_plot\u001b[0m\u001b[0;34m(\u001b[0m\u001b[0mlocation_df\u001b[0m\u001b[0;34m,\u001b[0m \u001b[0;34m'Location'\u001b[0m\u001b[0;34m)\u001b[0m\u001b[0;34m\u001b[0m\u001b[0;34m\u001b[0m\u001b[0m\n",
            "\u001b[0;31mNameError\u001b[0m: name 'property_details_df' is not defined"
          ]
        }
      ]
    },
    {
      "cell_type": "code",
      "source": [
        "\n",
        "# Plot the correlations\n",
        "plt.figure(figsize=(10, 6))\n",
        "barplot = sns.barplot(x=sorted_correlations.index, y=sorted_correlations.values)\n",
        "\n",
        "# Rotate x-axis labels for better visibility\n",
        "plt.xticks(rotation=90)\n",
        "\n",
        "# Add correlation values on top of each bar\n",
        "for i, value in enumerate(sorted_correlations.values):\n",
        "    barplot.text(i, value, round(value, 3), ha = 'center', va='bottom', rotation=90)\n",
        "\n",
        "plt.xlabel('Columns')\n",
        "plt.ylabel('Correlation with Resale Price')\n",
        "plt.title('Correlations with Resale Price')\n",
        "plt.tight_layout()\n",
        "plt.show()"
      ],
      "metadata": {
        "id": "ROBGVWc2djO7"
      },
      "execution_count": null,
      "outputs": []
    },
    {
      "cell_type": "markdown",
      "source": [
        "Now, we want to split the columns based on the categories that they fal under"
      ],
      "metadata": {
        "id": "U22Jbjsadsf_"
      }
    },
    {
      "cell_type": "code",
      "source": [
        "# Define the column categories\n",
        "property_details_cols = ['Tranc_YearMonth', 'town', 'flat_type', 'block', 'street_name', 'storey_range', 'floor_area_sqm', 'flat_model', 'lease_commence_date', 'Tranc_Year', 'Tranc_Month', 'mid_storey', 'lower', 'upper', 'mid', 'full_flat_type', 'address', 'floor_area_sqft', 'price_per_sqft', 'hdb_age', 'max_floor_lvl', 'year_completed', 'residential', 'commercial', 'market_hawker', 'multistorey_carpark', 'precinct_pavilion', 'total_dwelling_units']\n",
        "\n",
        "sold_rental_units_cols = ['1room_sold', '2room_sold', '3room_sold', '4room_sold', '5room_sold', 'exec_sold', 'multigen_sold', 'studio_apartment_sold', '1room_rental', '2room_rental', '3room_rental', 'other_room_rental']\n",
        "\n",
        "location_cols = ['postal', 'Latitude', 'Longitude', 'planning_area']\n",
        "\n",
        "schools_cols = ['pri_sch_nearest_distance', 'pri_sch_name', 'vacancy', 'pri_sch_affiliation', 'pri_sch_latitude', 'pri_sch_longitude', 'sec_sch_nearest_dist', 'sec_sch_name', 'cutoff_point', 'affiliation', 'sec_sch_latitude', 'sec_sch_longitude']\n",
        "\n",
        "mrt_and_bus_cols = ['mrt_nearest_distance', 'mrt_name', 'bus_interchange', 'mrt_interchange', 'mrt_latitude', 'mrt_longitude', 'bus_stop_nearest_distance', 'bus_stop_name', 'bus_stop_latitude', 'bus_stop_longitude']\n",
        "\n",
        "facilities_cols = ['Mall_Nearest_Distance', 'Mall_Within_500m', 'Mall_Within_1km', 'Mall_Within_2km', 'Hawker_Nearest_Distance', 'Hawker_Within_500m', 'Hawker_Within_1km', 'Hawker_Within_2km', 'hawker_food_stalls', 'hawker_market_stalls']\n",
        "\n",
        "\n",
        "# Create a dictionary where keys are column categories and values are lists of column names\n",
        "column_categories = {\n",
        "    'Property Details': property_details_cols,\n",
        "    'Sold and Rental Units': sold_rental_units_cols,\n",
        "    'Location': location_cols,\n",
        "    'Schools': schools_cols,\n",
        "    'MRT and Bus': mrt_and_bus_cols,\n",
        "    'Facilities': facilities_cols\n",
        "}\n"
      ],
      "metadata": {
        "id": "r431bVBadqKr"
      },
      "execution_count": null,
      "outputs": []
    },
    {
      "cell_type": "markdown",
      "source": [
        "### Creating a dataframe with all the descriptions of the data called `column_info_df`"
      ],
      "metadata": {
        "id": "bguGm_WlesUX"
      }
    },
    {
      "cell_type": "code",
      "source": [
        "# Create a dictionary with column names as keys and data descriptions as values\n",
        "data_descriptions = {\n",
        "    'resale_price': \"the property's sale price in Singapore dollars. This is the target variable that you're trying to predict for this challenge.\",\n",
        "    'Tranc_YearMonth': 'year and month of the resale transaction, e.g. 2015-02',\n",
        "    'town': 'HDB township where the flat is located, e.g. BUKIT MERAH',\n",
        "    'flat_type': 'type of the resale flat unit, e.g. 3 ROOM',\n",
        "    'block': 'block number of the resale flat, e.g. 454',\n",
        "    'street_name': 'street name where the resale flat resides, e.g. TAMPINES ST 42',\n",
        "    'storey_range': 'floor level (range) of the resale flat unit, e.g. 07 TO 09',\n",
        "    'floor_area_sqm': 'floor area of the resale flat unit in square metres',\n",
        "    'price_per_sqft': 'Price per Square Foot of the unit',\n",
        "    'flat_model': 'HDB model of the resale flat, e.g. Multi Generation',\n",
        "    'lease_commence_date': \"commencement year of the flat unit's 99-year lease\",\n",
        "    'Tranc_Year': 'year of resale transaction',\n",
        "    'Tranc_Month': 'month of resale transaction',\n",
        "    'mid_storey': 'median value of storey_range',\n",
        "    'lower': 'lower value of storey_range',\n",
        "    '2room_rental': '2 room rental flat',\n",
        "    '3room_rental': '3 room rental flat',\n",
        "    '4room_rental': '4 room rental flat',\n",
        "    'postal':'postal code',\n",
        "    'other_room_rental': 'other room rental flat',\n",
        "    'upper': 'upper value of storey_range',\n",
        "    'mid': 'middle value of storey_range',\n",
        "    'full_flat_type': 'combination of flat_type and flat_model',\n",
        "    'address': 'combination of block and street_name',\n",
        "    'floor_area_sqft': 'floor area of the resale flat unit in square feet',\n",
        "    'hdb_age': 'number of years from lease_commence_date to present year',\n",
        "    'max_floor_lvl': 'highest floor of the resale flat',\n",
        "    'year_completed': 'year which construction was completed for resale flat',\n",
        "    'residential': 'boolean value if resale flat has residential units in the same block',\n",
        "    'commercial': 'boolean value if resale flat has commercial units in the same block',\n",
        "    'market_hawker': 'boolean value if resale flat has a market or hawker centre in the same block',\n",
        "    'multistorey_carpark': 'boolean value if resale flat has a multistorey carpark in the same block',\n",
        "    'precinct_pavilion': 'boolean value if resale flat has a pavilion in the same block',\n",
        "    'total_dwelling_units': 'total number of residential dwelling units in the resale flat',\n",
        "    'Latitude':'Latitude of the unit',\n",
        "    'Longitude':'Longitude of the unit',\n",
        "    'planning_area':'planning area of the unit',\n",
        "    'pri_sch_nearest_distance':'distance of unit to the nearest primary school',\n",
        "    '1room_sold': 'number of 1-room residential units in the resale flat',\n",
        "    '2room_sold': 'number of 2-room residential units in the resale flat',\n",
        "    '3room_sold': 'number of 3-room residential units in the resale flat',\n",
        "    '4room_sold': 'number of 4-room residential units in the resale flat',\n",
        "    '5room_sold': 'number of 5-room residential units in the resale flat',\n",
        "    'exec_sold': 'number of executive type residential units in the resale flat block',\n",
        "    'pri_sch_name':'name of the nearest primary school',\n",
        "    'vacancy':'vacancy of the unit',\n",
        "    'pri_sch_affiliation':'affiliation of primary school',\n",
        "    'pri_sch_latitude':'latitude of primary school',\n",
        "    'pri_sch_longitude':'longitude of primary school',\n",
        "    'sec_sch_nearest_dist':'distance to nearest secondary school',\n",
        "    'sec_sch_name':'name of nearest secondary school',\n",
        "    'cutoff_point':'PSLE cutoff point of nearest secondary school',\n",
        "    'affiliation':'if there is affiliation for the nearest secondary school',\n",
        "    'sec_sch_latitude':'latitude of secondary school',\n",
        "    'sec_sch_longitude':'longitude of secondary school',\n",
        "    'multigen_sold': 'number of multi-generational type residential units in the resale flat block',\n",
        "    'mrt_nearest_distance':'distance to nearest mrt',\n",
        "    'mrt_name':'name of nearest mrt',\n",
        "    'bus_interchange':'if there is a bus interchange',\n",
        "    'mrt_interchange':'if there is an mrt interchange',\n",
        "    'mrt_latitude':'latitude of mrt',\n",
        "    'mrt_longitude':'longitude of mrt',\n",
        "    'bus_stop_nearest_distance':'distance to nearest bus stop',\n",
        "    'bus_stop_name':'name of bus stop',\n",
        "    'bus_stop_latitude':'latitude of bus stop',\n",
        "    'bus_stop_longitude':'longitude of bus stop',\n",
        "    'Mall_Nearest_Distance':'Distance to the nearest mall',\n",
        "    'Mall_Within_500m':'How many malls within 500m of the unit',\n",
        "    'Mall_Within_1km':'How many malls within 1km of the unit',\n",
        "    'Mall_Within_2km':'How many malls within 2km of the unit',\n",
        "    'Hawker_Nearest_Distance':'Distance to nearest Hawker Center',\n",
        "    'Hawker_Within_500m':'How many Hawker Centers within 500m of the unit',\n",
        "    'Hawker_Within_1km':'How many Hawker Centers within 1km of the unit',\n",
        "    'Hawker_Within_2km':'How many Hawker Centers within 2km of the unit',\n",
        "    'studio_apartment_sold': 'number of studio apartment type residential units in the resale flat block',\n",
        "    '1room_rental':'number of 1-room rental residential units in the resale flat block', \n",
        "    'hawker_food_stalls':'number of stalls at nearest hawker centre',\n",
        "    'hawker_market_stalls':'number of market stalls at nearest hawker centre',\n",
        "    \n",
        "}\n",
        "\n",
        "\n",
        "# Create a dictionary that maps each column to its category and description\n",
        "column_info = {}\n",
        "\n",
        "for category, columns in column_categories.items():\n",
        "    for column in columns:\n",
        "        column_info[column] = {'Category': category, 'Description': data_descriptions[column]}\n",
        "\n",
        "# Convert the dictionary to a dataframe\n",
        "column_info_df = pd.DataFrame.from_dict(column_info, orient='index')\n",
        "# Reset the index to make 'Column' a column instead of an index\n",
        "column_info_df.reset_index(inplace=True)\n",
        "# Rename the 'index' column to 'Column'\n",
        "column_info_df.rename(columns={'index': 'Column'}, inplace=True)\n",
        "\n",
        "# Print the dataframe\n",
        "print(column_info_df)"
      ],
      "metadata": {
        "id": "KDrkZJp2d7gG"
      },
      "execution_count": null,
      "outputs": []
    },
    {
      "cell_type": "code",
      "source": [
        "# Create a dataframe from the dictionary\n",
        "df_column_categories = pd.DataFrame(dict([ (k,pd.Series(v)) for k,v in column_categories.items() ]))\n",
        "\n",
        "# List of columns to be dropped\n",
        "dropped_cols = ['residential', 'id', 'tranc_yearmonth', 'storey_range', 'mid_storey', 'town', 'flat_type', \n",
        "                'block', 'street_name', 'address', 'postal', 'bus_stop_name', 'price_per_sqft', 'latitude', \n",
        "                'longitude', 'mrt_latitude', 'mrt_longitude', 'bus_stop_latitude', 'bus_stop_longitude', \n",
        "                'pri_sch_latitude', 'pri_sch_longitude', 'sec_sch_latitude', 'sec_sch_longitude']\n",
        "\n",
        "# Remove these columns from your column lists if they exist\n",
        "property_details_cols = [col for col in property_details_cols if col not in dropped_cols]\n",
        "sold_rental_units_cols = [col for col in sold_rental_units_cols if col not in dropped_cols]\n",
        "location_cols = [col for col in location_cols if col not in dropped_cols]\n",
        "schools_cols = [col for col in schools_cols if col not in dropped_cols]\n",
        "mrt_and_bus_cols = [col for col in mrt_and_bus_cols if col not in dropped_cols]\n",
        "facilities_cols = [col for col in facilities_cols if col not in dropped_cols]\n",
        "\n",
        "\n",
        "\n",
        "# Add 'resale_price' to each category's list of columns\n",
        "property_details_cols.append('resale_price')\n",
        "sold_rental_units_cols.append('resale_price')\n",
        "location_cols.append('resale_price')\n",
        "schools_cols.append('resale_price')\n",
        "mrt_and_bus_cols.append('resale_price')\n",
        "facilities_cols.append('resale_price')\n",
        "\n",
        "# Create dataframes for each category\n",
        "property_details_df = data[property_details_cols]\n",
        "sold_rental_units_df = data[sold_rental_units_cols]\n",
        "location_df = data[location_cols]\n",
        "schools_df = data[schools_cols]\n",
        "mrt_and_bus_df = data[mrt_and_bus_cols]\n",
        "facilities_df = data[facilities_cols]\n",
        "\n",
        "# Define a function to compute correlations and plot the graph\n",
        "def compute_correlations_and_plot(df, category_name):\n",
        "    # Compute correlations\n",
        "    correlations = df.corr()['resale_price'].drop('resale_price')\n",
        "\n",
        "    # Sort the correlations\n",
        "    sorted_correlations = correlations.sort_values(ascending=False)\n",
        "\n",
        "    # Plot the correlations\n",
        "    plt.figure(figsize=(10, 6))\n",
        "    sns.barplot(x=sorted_correlations.index, y=sorted_correlations.values)\n",
        "    plt.xticks(rotation=90)\n",
        "    plt.xlabel('Columns')\n",
        "    plt.ylabel('Correlation with Resale Price')\n",
        "    plt.title(f'Correlations with Resale Price for {category_name}')\n",
        "    plt.tight_layout()\n",
        "    plt.show()\n",
        "\n",
        "# Compute correlations and plot graphs for each category\n",
        "compute_correlations_and_plot(property_details_df, 'Property Details')\n",
        "compute_correlations_and_plot(sold_rental_units_df, 'Sold and Rental Units')\n",
        "compute_correlations_and_plot(location_df, 'Location')\n",
        "compute_correlations_and_plot(schools_df, 'Schools')\n",
        "compute_correlations_and_plot(mrt_and_bus_df, 'MRT and Bus')\n",
        "compute_correlations_and_plot(facilities_df, 'Facilities')"
      ],
      "metadata": {
        "id": "zv5W30peeRTI"
      },
      "execution_count": null,
      "outputs": []
    },
    {
      "cell_type": "code",
      "source": [
        "avg_resale_price = data.groupby('pri_sch_name')['resale_price'].mean().reset_index()"
      ],
      "metadata": {
        "id": "6YzcarQ7jaw0"
      },
      "execution_count": null,
      "outputs": []
    },
    {
      "cell_type": "code",
      "source": [
        "# Create a new column 'pri_sch_price_category' based on the average resale price\n",
        "avg_resale_price['pri_sch_price_category'] = pd.qcut(avg_resale_price['resale_price'], 3, labels=[1, 2, 3])\n",
        "\n",
        "# Merge this DataFrame with the original DataFrame to create the new column\n",
        "data = pd.merge(data, avg_resale_price[['pri_sch_name', 'pri_sch_price_category']], on='pri_sch_name', how='left')\n",
        "print(data['pri_sch_price_category'].unique())\n"
      ],
      "metadata": {
        "id": "cWxY4JLIjfiS"
      },
      "execution_count": null,
      "outputs": []
    },
    {
      "cell_type": "code",
      "source": [
        "for x in data.select_dtypes(include='object').columns:\n",
        "    print(x, len(data[x].unique()))"
      ],
      "metadata": {
        "id": "P-wy3ASnmJgF"
      },
      "execution_count": null,
      "outputs": []
    },
    {
      "cell_type": "markdown",
      "source": [
        "Columns to get_dummies:"
      ],
      "metadata": {
        "id": "up2Qo6M2m4pW"
      }
    },
    {
      "cell_type": "code",
      "source": [
        "col = ['flat_type','flat_model','market_hawker','commercial','precinct_pavilion','planning_area','mrt_name','town']"
      ],
      "metadata": {
        "id": "TxdzEAAzm93e"
      },
      "execution_count": null,
      "outputs": []
    },
    {
      "cell_type": "code",
      "source": [
        "encoded_data = pd.get_dummies(data, columns=col, drop_first=True)"
      ],
      "metadata": {
        "id": "96unXcsFk9fv"
      },
      "execution_count": null,
      "outputs": []
    },
    {
      "cell_type": "markdown",
      "source": [
        "remove street_name, address, blocks, town, bus stop"
      ],
      "metadata": {
        "id": "Vba-MGiQlfNH"
      }
    },
    {
      "cell_type": "code",
      "source": [
        "# Identify the columns with the object datatype\n",
        "object_cols = encoded_data.select_dtypes(include=['object']).columns\n",
        "\n",
        "# Drop these columns from the DataFrame\n",
        "encoded_data = encoded_data.drop(object_cols, axis=1)\n",
        "\n",
        "# Convert the column names to a DataFrame\n",
        "columns_df = pd.DataFrame(encoded_data.columns, columns=['Column Name'])\n",
        "\n",
        "# Create a new column in the DataFrame for the number of unique values in each column\n",
        "columns_df['Unique Values'] = columns_df['Column Name'].apply(lambda col: encoded_data[col].nunique())\n",
        "\n",
        "# Print the DataFrame\n",
        "print(columns_df)\n"
      ],
      "metadata": {
        "id": "WoyvX6FkpEXF"
      },
      "execution_count": null,
      "outputs": []
    },
    {
      "cell_type": "code",
      "source": [
        "selected_col = encoded_data.columns.tolist()\n",
        "print(selected_col)"
      ],
      "metadata": {
        "id": "1RlEhzV7p7_X"
      },
      "execution_count": null,
      "outputs": []
    },
    {
      "cell_type": "code",
      "source": [
        "encoded_data_new = encoded_data[selected_col]\n",
        "X = encoded_data_new\n",
        "y = data[['resale_price']]\n",
        "X_train, X_test, y_train, y_test = train_test_split(X, y, random_state=5)\n"
      ],
      "metadata": {
        "id": "RCloJEM_qjmo"
      },
      "execution_count": null,
      "outputs": []
    },
    {
      "cell_type": "code",
      "source": [
        "X_train = X_train.fillna(0)\n",
        "X_test = X_test.fillna(0)"
      ],
      "metadata": {
        "id": "3IuXVzNFrdPD"
      },
      "execution_count": null,
      "outputs": []
    },
    {
      "cell_type": "code",
      "source": [
        "lr = LinearRegression()\n",
        "lr.fit(X_train, y_train)\n",
        "print(lr.intercept_)\n",
        "print(lr.coef_)\n",
        "print('Linear Regression score:',lr.score(X_train,y_train))\n",
        "lrpred=lr.predict(X_test)\n",
        "print('Mean Squared Error: ',mean_squared_error(y_test,lrpred))\n",
        "print('Mean Absolute Error: ',mean_absolute_error(y_test,lrpred))\n",
        "print('Root Mean Squared Error: ',np.sqrt(mean_squared_error(y_test,lrpred)))\n",
        "print('Test Score: ',lr.score(X_test, y_test))"
      ],
      "metadata": {
        "id": "XxqDh20Sqn6b"
      },
      "execution_count": null,
      "outputs": []
    },
    {
      "cell_type": "code",
      "source": [
        "print(\"R2 Score:\", r2_score(y_test, lrpred))\n",
        "print(\"Train Score:\", lr.score(X_train, y_train))\n",
        "print(\"Test Score:\", lr.score(X_test, y_test))\n",
        "print(\"Cross Validation Score:\", cross_val_score(lr, X_train, y_train, cv=20).mean())"
      ],
      "metadata": {
        "id": "hQtw0hfwqumQ"
      },
      "execution_count": null,
      "outputs": []
    },
    {
      "cell_type": "markdown",
      "source": [
        "EDA for Nearest Sec School Columns"
      ],
      "metadata": {
        "id": "Bm8R1tDwdMy8"
      }
    },
    {
      "cell_type": "code",
      "source": [
        "#By Sec Sch Name\n",
        "sec_sch = data.pivot_table(index='sec_sch_name', values='resale_price', aggfunc=(len, np.mean, np.median, np.std))\n",
        "sec_sch.sort_values(by='std')"
      ],
      "metadata": {
        "id": "9xuRUsS3dMh8"
      },
      "execution_count": null,
      "outputs": []
    },
    {
      "cell_type": "code",
      "source": [
        "sec_sch_list = []\n",
        "for x in data['sec_sch_name'].unique():\n",
        "    price = data[data['sec_sch_name'] == x]['resale_price'].to_list()\n",
        "    sec_sch_list.append(price)\n",
        "plt.figure(figsize = (20, 48))\n",
        "plt.boxplot(sec_sch_list, vert = False)\n",
        "locs, labels = plt.yticks()\n",
        "plt.yticks(locs, data['sec_sch_name'].unique().tolist())\n",
        "plt.xlabel('Price (SGD$ million)')\n",
        "plt.ylabel('Sec Sch Name')\n",
        "plt.title('Resale Price vs Nearest Sec Sch')"
      ],
      "metadata": {
        "id": "RF-YyzHqiMhP"
      },
      "execution_count": null,
      "outputs": []
    },
    {
      "cell_type": "code",
      "source": [
        "#By CutOff Point\n",
        "data.pivot_table(index='cutoff_point', values='resale_price', aggfunc=(len, np.mean, np.median, np.std))"
      ],
      "metadata": {
        "id": "CEypaP14dgjW"
      },
      "execution_count": null,
      "outputs": []
    },
    {
      "cell_type": "code",
      "source": [
        "plt.scatter(y = data.pivot_table(index='cutoff_point', values='resale_price', aggfunc=(np.mean)).iloc[:,0], x = data.pivot_table(index='cutoff_point', values='resale_price', aggfunc=(len, np.mean, np.median, np.std)).index)\n",
        "plt.title('Mean Resale Price vs Cutoff Point of the Nearest Secondary School')\n",
        "plt.xlabel('Cutoff Point')\n",
        "plt.ylabel('Mean Resale Price (SGD$)')\n",
        "plt.hlines(510000, xmin = 190, xmax = 260, linestyles= 'dashed', colors='lightpink')\n",
        "plt.vlines(240, ymin=350000, ymax=650000, linestyles='dashed', colors='lightpink')\n",
        "plt.hlines(350000, xmin = 190, xmax = 260, linestyles= 'dashed', colors='lightpink')"
      ],
      "metadata": {
        "id": "vQbsVmv3dotQ"
      },
      "execution_count": null,
      "outputs": []
    },
    {
      "cell_type": "code",
      "source": [
        "#Separate all the cutoff into 5 groups based on this cutting, may improve accuracy idk"
      ],
      "metadata": {
        "id": "8Qi3L7SsdxKq"
      },
      "execution_count": null,
      "outputs": []
    },
    {
      "cell_type": "code",
      "source": [
        "plt.scatter(y = data.pivot_table(index='cutoff_point', values='resale_price', aggfunc=(np.median)).iloc[:,0], x = data.pivot_table(index='cutoff_point', values='resale_price', aggfunc=(len, np.mean, np.median, np.std)).index)\n",
        "plt.title('Median Resale Price vs Cutoff Point of the Nearest Secondary School')\n",
        "plt.xlabel('Cutoff Point')\n",
        "plt.ylabel('Median Resale Price (SGD$)')\n",
        "plt.hlines(510000, xmin = 190, xmax = 260, linestyles= 'dashed', colors='lightpink')\n",
        "plt.vlines(240, ymin=350000, ymax=650000, linestyles='dashed', colors='lightpink')\n",
        "plt.hlines(350000, xmin = 190, xmax = 260, linestyles= 'dashed', colors='lightpink')"
      ],
      "metadata": {
        "id": "H8KOevaIpJmW"
      },
      "execution_count": null,
      "outputs": []
    },
    {
      "cell_type": "code",
      "source": [
        "np.corrcoef(data['cutoff_point'], data['resale_price']) "
      ],
      "metadata": {
        "id": "Y46IPFRedsM-"
      },
      "execution_count": null,
      "outputs": []
    },
    {
      "cell_type": "code",
      "source": [
        "data.pivot_table(index='affiliation', values='resale_price', aggfunc=(len, np.mean, np.median, np.std))"
      ],
      "metadata": {
        "id": "1kRlfRG-KTAi"
      },
      "execution_count": null,
      "outputs": []
    },
    {
      "cell_type": "code",
      "source": [
        "affiliation_list = []\n",
        "for x in data['affiliation'].unique():\n",
        "    price = data[data['affiliation'] == x]['resale_price'].to_list()\n",
        "    affiliation_list.append(price)\n",
        "plt.boxplot(affiliation_list)\n",
        "locs, labels = plt.xticks()\n",
        "plt.xticks(locs, ['No', 'Yes'])\n",
        "plt.ylabel('Price (SGD$ million)')\n",
        "plt.xlabel('Nearest Sec School - Affiliated')\n",
        "plt.title('Resale Price vs Sec Sch Affiliation')"
      ],
      "metadata": {
        "id": "8Y3hb5_XKVER"
      },
      "execution_count": null,
      "outputs": []
    },
    {
      "cell_type": "markdown",
      "source": [
        "Can drop affiliation column since there is no significant differences between with or without aff"
      ],
      "metadata": {
        "id": "D9H1iXu1KWaM"
      }
    },
    {
      "cell_type": "markdown",
      "source": [
        "### kbest code"
      ],
      "metadata": {
        "id": "nSeMn1J44NNE"
      }
    },
    {
      "cell_type": "code",
      "source": [
        "# Assuming X is your feature matrix and y is your target variable\n",
        "X = columns of potential predictors\n",
        "y = data[['resale_price']]\n",
        "\n",
        "# Initialize SelectKBest with f_regression scoring function and select top 30 features\n",
        "selector = SelectKBest(score_func=f_regression, k=30)\n",
        "\n",
        "# Fit SelectKBest to your data\n",
        "selector.fit(X, y)\n",
        "\n",
        "# Retrieve selected features\n",
        "X_selected = selector.transform(X)\n",
        "selected_indices = selector.get_support(indices=True)\n",
        "selected_columns = X.columns[selector.get_support()]"
      ],
      "metadata": {
        "id": "npxIKbXd4Maw"
      },
      "execution_count": null,
      "outputs": []
    },
    {
      "cell_type": "code",
      "source": [
        "# print X_selected -> names of predictors\n",
        "X_selected = X.iloc[:, selected_indices].columns\n",
        "X_selected"
      ],
      "metadata": {
        "id": "zMkrpb4u4uee"
      },
      "execution_count": null,
      "outputs": []
    }
  ]
}